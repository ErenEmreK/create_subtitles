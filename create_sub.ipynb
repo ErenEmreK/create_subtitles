{
 "cells": [
  {
   "cell_type": "code",
   "execution_count": 8,
   "metadata": {},
   "outputs": [],
   "source": [
    "import sys\n",
    "import os\n",
    "\n",
    "import whisper\n",
    "import pysrt"
   ]
  },
  {
   "cell_type": "code",
   "execution_count": 8,
   "metadata": {},
   "outputs": [],
   "source": [
    "#TODO try another video-try loaded model\n",
    "model = whisper.load_model(\"medium\")"
   ]
  },
  {
   "cell_type": "code",
   "execution_count": 1,
   "metadata": {},
   "outputs": [],
   "source": [
    "import joblib\n",
    "model = joblib.load(\"C:\\dev\\whisper_models\\whisper_small.pkl\") "
   ]
  },
  {
   "cell_type": "code",
   "execution_count": 2,
   "metadata": {},
   "outputs": [],
   "source": [
    "\n",
    "result = model.transcribe(\"C:\\\\Users\\\\vlns\\\\Desktop\\\\sub_ex2\\\\My Hero Academia S01E10 MULTi 1080p 10bits BluRay x265 AAC -Punisher694.mkv\")"
   ]
  },
  {
   "cell_type": "code",
   "execution_count": 13,
   "metadata": {},
   "outputs": [],
   "source": [
    "\n",
    "result2 = model.transcribe(\"C:\\\\Users\\\\vlns\\Desktop\\\\sub_ex\\\\My Hero Academia S01E07 MULTi 1080p 10bits BluRay x265 AAC -Punisher694.mkv\")"
   ]
  },
  {
   "cell_type": "code",
   "execution_count": 6,
   "metadata": {},
   "outputs": [],
   "source": [
    "def convert_time(seconds):\n",
    "\n",
    "    hours = int(seconds // 3600)\n",
    "    remaining_seconds = seconds % 3600\n",
    "    \n",
    "    minutes = int(remaining_seconds // 60)\n",
    "    remaining_seconds %= 60\n",
    "    \n",
    "    seconds = int(remaining_seconds)\n",
    "    miliseconds = int((remaining_seconds - seconds) * 1000)\n",
    "    \n",
    "    return (hours, minutes, seconds, miliseconds)\n"
   ]
  },
  {
   "cell_type": "code",
   "execution_count": 5,
   "metadata": {},
   "outputs": [],
   "source": [
    "\n",
    "def result_to_srt(result, output_file, plus_time=0):\n",
    "    #We create our srt object\n",
    "    subs = pysrt.SubRipFile()\n",
    "\n",
    "    if not plus_time:\n",
    "        #If plus-time method isnt used, we create subtitle instances for every sentence\n",
    "        #in our result, using its start-end timestamps\n",
    "        for segment in result['segments']:\n",
    "            start_time = convert_time(segment['start']) \n",
    "            end_time = convert_time(segment['end'])\n",
    "            \n",
    "            sub_item = pysrt.SubRipItem(start=start_time, \n",
    "                                        end=end_time, \n",
    "                                        text=segment['text'])\n",
    "            subs.append(sub_item)\n",
    "\n",
    "    else:\n",
    "        #If plus-time is used we set end time of instances as start of the next one\n",
    "        for i in range(len(result['segments']) - 1):\n",
    "            start_time = convert_time(result['segments'][i]['start'])\n",
    "            end_time = convert_time(min(result['segments'][i+1]['start'], \n",
    "                                        (result['segments'][i]['end']) + plus_time))\n",
    "            \n",
    "            sub_item = pysrt.SubRipItem(start=start_time, \n",
    "                                        end=end_time, \n",
    "                                        text=result['segments'][i]['text'])\n",
    "            subs.append(sub_item)\n",
    "        last_sub_item = pysrt.SubRipItem(start=convert_time(result['segments'][-1]['start']), \n",
    "                                        end=convert_time(result['segments'][-1]['end']), \n",
    "                                        text=result['segments'][-1]['text'])\n",
    "    subs.save(output_file, encoding='utf-8')\n",
    "    print(f'Subtitle file {output_file} is ready.')   \n",
    "\n"
   ]
  },
  {
   "cell_type": "code",
   "execution_count": 1,
   "metadata": {},
   "outputs": [
    {
     "ename": "NameError",
     "evalue": "name 'result_to_srt' is not defined",
     "output_type": "error",
     "traceback": [
      "\u001b[1;31m---------------------------------------------------------------------------\u001b[0m",
      "\u001b[1;31mNameError\u001b[0m                                 Traceback (most recent call last)",
      "Cell \u001b[1;32mIn[1], line 1\u001b[0m\n\u001b[1;32m----> 1\u001b[0m \u001b[43mresult_to_srt\u001b[49m(result, \u001b[38;5;124m\"\u001b[39m\u001b[38;5;124mC:\u001b[39m\u001b[38;5;130;01m\\\\\u001b[39;00m\u001b[38;5;124mUsers\u001b[39m\u001b[38;5;130;01m\\\\\u001b[39;00m\u001b[38;5;124mvlns\u001b[39m\u001b[38;5;130;01m\\\\\u001b[39;00m\u001b[38;5;124mDesktop\u001b[39m\u001b[38;5;130;01m\\\\\u001b[39;00m\u001b[38;5;124msub_ex2\u001b[39m\u001b[38;5;130;01m\\\\\u001b[39;00m\u001b[38;5;124mMy Hero Academia S01E10 MULTi 1080p 10bits BluRay x265 AAC -Punisher69412.srt\u001b[39m\u001b[38;5;124m\"\u001b[39m)\n",
      "\u001b[1;31mNameError\u001b[0m: name 'result_to_srt' is not defined"
     ]
    }
   ],
   "source": [
    "result_to_srt(result, \"C:\\\\Users\\\\vlns\\\\Desktop\\\\sub_ex2\\\\My Hero Academia S01E10 MULTi 1080p 10bits BluRay x265 AAC -Punisher69412.srt\")"
   ]
  },
  {
   "cell_type": "code",
   "execution_count": null,
   "metadata": {},
   "outputs": [],
   "source": [
    "def subtitles_for_list(model, video_list, sub_path, OUT_ISDIR=False, sub_extension='.srt', glue=False):\n",
    "    file_count = len(video_list)\n",
    "    done = 0\n",
    "    for video_path in video_list:\n",
    "        result = model.transcribe(video_path)\n",
    "        if OUT_ISDIR:\n",
    "            #TODO Just get filename w/o absolute path and create sub_file that way\n",
    "            sub_file = os.path.splitext(video_path)[0] + sub_extension\n",
    "            sub_path = os.path.join(sub_path, sub_file)\n",
    "        else:\n",
    "            sub_file = sub_path\n",
    "            \n",
    "        if os.path.splitext(sub_file)[1] == '.srt':\n",
    "            result_to_srt(result, sub_path, glue=glue)\n",
    "            done += 1\n",
    "            print(f\"{done}/{file_count}\")\n",
    "        else:\n",
    "            #TODO implement other subtitle formats\n",
    "            print(f\"Unable to create {sub_extension} files. Use '.srt' instead.\")\n",
    "            break"
   ]
  }
 ],
 "metadata": {
  "kernelspec": {
   "display_name": "Python 3",
   "language": "python",
   "name": "python3"
  },
  "language_info": {
   "codemirror_mode": {
    "name": "ipython",
    "version": 3
   },
   "file_extension": ".py",
   "mimetype": "text/x-python",
   "name": "python",
   "nbconvert_exporter": "python",
   "pygments_lexer": "ipython3",
   "version": "3.11.8"
  }
 },
 "nbformat": 4,
 "nbformat_minor": 2
}
