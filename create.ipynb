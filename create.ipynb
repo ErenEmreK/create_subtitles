{
 "cells": [
  {
   "cell_type": "code",
   "execution_count": 1,
   "metadata": {},
   "outputs": [],
   "source": [
    "import sys\n",
    "import os\n",
    "\n",
    "import whisper\n",
    "import stable_whisper\n",
    "import pysrt"
   ]
  },
  {
   "cell_type": "code",
   "execution_count": 4,
   "metadata": {},
   "outputs": [],
   "source": [
    "video_path = \"C:\\\\Users\\\\vlns\\\\Desktop\\\\sub_ex2\\\\My Hero Academia S01E11 MULTi 1080p 10bits BluRay x265 AAC -Punisher694.mkv\"\n",
    "model = stable_whisper.load_model(\"small\")"
   ]
  },
  {
   "cell_type": "code",
   "execution_count": 18,
   "metadata": {},
   "outputs": [],
   "source": [
    "sub_file = \"C:\\\\Users\\\\vlns\\\\Desktop\\\\sub_ex2\\\\My Hero Academia S01E11 MULTi 1080p 10bits BluRay x265 AAC -Punisher11myfunc.srt\""
   ]
  },
  {
   "cell_type": "code",
   "execution_count": 5,
   "metadata": {},
   "outputs": [
    {
     "name": "stderr",
     "output_type": "stream",
     "text": [
      "Transcribe:   0%|          | 0/1456.3 [00:02<?, ?sec/s]"
     ]
    },
    {
     "name": "stdout",
     "output_type": "stream",
     "text": [
      "Detected language: french\n"
     ]
    },
    {
     "name": "stderr",
     "output_type": "stream",
     "text": [
      "Transcribe: 100%|█████████▉| 1455.15/1456.3 [04:54<00:00,  4.95sec/s]\n"
     ]
    }
   ],
   "source": [
    "result = model.transcribe(video_path)"
   ]
  },
  {
   "cell_type": "code",
   "execution_count": 14,
   "metadata": {},
   "outputs": [
    {
     "data": {
      "text/plain": [
       "1450.72"
      ]
     },
     "execution_count": 14,
     "metadata": {},
     "output_type": "execute_result"
    }
   ],
   "source": [
    "result[-1].start"
   ]
  },
  {
   "cell_type": "code",
   "execution_count": 12,
   "metadata": {},
   "outputs": [
    {
     "data": {
      "text/plain": [
       "417"
      ]
     },
     "execution_count": 12,
     "metadata": {},
     "output_type": "execute_result"
    }
   ],
   "source": [
    "len(result)"
   ]
  },
  {
   "cell_type": "code",
   "execution_count": 15,
   "metadata": {},
   "outputs": [],
   "source": [
    "\n",
    "def convert_time(seconds):\n",
    "\n",
    "    hours = int(seconds // 3600)\n",
    "    remaining_seconds = seconds % 3600\n",
    "    \n",
    "    minutes = int(remaining_seconds // 60)\n",
    "    remaining_seconds %= 60\n",
    "    \n",
    "    seconds = int(remaining_seconds)\n",
    "    miliseconds = int((remaining_seconds - seconds) * 1000)\n",
    "    \n",
    "    return (hours, minutes, seconds, miliseconds)\n"
   ]
  },
  {
   "cell_type": "code",
   "execution_count": 16,
   "metadata": {},
   "outputs": [],
   "source": [
    "def stable_result_to_srt(result, output_file, plus_time=0):\n",
    "    subs = pysrt.SubRipFile()\n",
    "    for i in range(len(result) - 1):\n",
    "        start_time = convert_time(result[i].start)\n",
    "        end_time = convert_time(min(result[i+1].start, result[i].end + plus_time))\n",
    "        \n",
    "        sub_item = pysrt.SubRipItem(start=start_time, \n",
    "                                    end=end_time, \n",
    "                                    text=result[i].text)\n",
    "        subs.append(sub_item)\n",
    "        \n",
    "    subs.append(pysrt.SubRipItem(start=convert_time(result[-1].start), \n",
    "                                    end=convert_time(result[-1].end), \n",
    "                                    text=result[-1].text))\n",
    "    \n",
    "    subs.save(output_file, encoding='utf-8')\n",
    "    print(f'Subtitle file {output_file} is ready.') \n",
    "                                "
   ]
  },
  {
   "cell_type": "code",
   "execution_count": 19,
   "metadata": {},
   "outputs": [
    {
     "name": "stdout",
     "output_type": "stream",
     "text": [
      "Subtitle file C:\\Users\\vlns\\Desktop\\sub_ex2\\My Hero Academia S01E11 MULTi 1080p 10bits BluRay x265 AAC -Punisher11myfunc.srt is ready.\n"
     ]
    }
   ],
   "source": [
    "stable_result_to_srt(result, sub_file, plus_time=1)"
   ]
  }
 ],
 "metadata": {
  "kernelspec": {
   "display_name": "Python 3",
   "language": "python",
   "name": "python3"
  },
  "language_info": {
   "codemirror_mode": {
    "name": "ipython",
    "version": 3
   },
   "file_extension": ".py",
   "mimetype": "text/x-python",
   "name": "python",
   "nbconvert_exporter": "python",
   "pygments_lexer": "ipython3",
   "version": "3.11.8"
  }
 },
 "nbformat": 4,
 "nbformat_minor": 2
}
