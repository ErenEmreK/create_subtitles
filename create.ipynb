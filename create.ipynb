{
 "cells": [
  {
   "cell_type": "markdown",
   "metadata": {},
   "source": [
    "            TODO \n",
    "-> save models to further usage\n",
    "-> player"
   ]
  },
  {
   "cell_type": "code",
   "execution_count": 2,
   "metadata": {},
   "outputs": [],
   "source": [
    "import pysrt\n",
    "import joblib\n",
    "\n",
    "\n",
    "model = joblib.load('C:\\dev\\whisper_models\\whisper_small.pkl')"
   ]
  },
  {
   "cell_type": "code",
   "execution_count": 29,
   "metadata": {},
   "outputs": [],
   "source": [
    "import os"
   ]
  },
  {
   "cell_type": "code",
   "execution_count": 28,
   "metadata": {},
   "outputs": [
    {
     "name": "stderr",
     "output_type": "stream",
     "text": [
      "100%|█████████████████████████████████████| 1.42G/1.42G [18:36<00:00, 1.37MiB/s]\n"
     ]
    }
   ],
   "source": [
    "import whisper\n",
    "import pysrt\n",
    "\n",
    "model = whisper.load_model(\"medium\")"
   ]
  },
  {
   "cell_type": "code",
   "execution_count": 30,
   "metadata": {},
   "outputs": [],
   "source": [
    "result = model.transcribe(\"C:\\Movies\\My Hero Academia S01 (2016) MULTi 1080p 10bits BluRay x265 AAC v2 -Punisher694\\My Hero Academia S01E02 MULTi 1080p 10bits BluRay x265 AAC -Punisher694.mkv\")\n",
    "print(result[\"text\"])"
   ]
  },
  {
   "cell_type": "code",
   "execution_count": 4,
   "metadata": {},
   "outputs": [],
   "source": [
    "def convert_time(seconds):\n",
    "\n",
    "    hours = int(seconds // 3600)\n",
    "    remaining_seconds = seconds % 3600\n",
    "    \n",
    "    minutes = int(remaining_seconds // 60)\n",
    "    remaining_seconds %= 60\n",
    "    \n",
    "    seconds = int(remaining_seconds)\n",
    "    miliseconds = int((remaining_seconds - seconds) * 1000)\n",
    "    \n",
    "    return (hours, minutes, seconds, miliseconds)\n"
   ]
  },
  {
   "cell_type": "code",
   "execution_count": 8,
   "metadata": {},
   "outputs": [],
   "source": [
    "def result_to_srt(result, output_file):\n",
    "    subs = pysrt.SubRipFile()\n",
    "    \n",
    "    for segment in result['segments']:\n",
    "        start_time = convert_time(segment['start']) \n",
    "        end_time = convert_time(segment['end'])\n",
    "        \n",
    "        sub_item = pysrt.SubRipItem(start=start_time, \n",
    "                                    end=end_time, \n",
    "                                    text=segment['text'])\n",
    "        subs.append(sub_item)\n",
    "    subs.save(output_file, encoding='utf-8')\n",
    "    print(f'Subtitle file {output_file} is ready.')   "
   ]
  },
  {
   "cell_type": "code",
   "execution_count": 10,
   "metadata": {},
   "outputs": [],
   "source": [
    "result_to_srt(result, 'output.srt')"
   ]
  },
  {
   "cell_type": "code",
   "execution_count": null,
   "metadata": {},
   "outputs": [],
   "source": [
    "def subtitles_for_folder(video_folder, sub_folder):\n",
    "    files = os.listdir(video_folder)\n",
    "    file_count = len(files)\n",
    "    done = 0\n",
    "    for file in files:\n",
    "        video_path = os.path.join(video_folder, file)\n",
    "        result = model.transcribe(video_path)\n",
    "        \n",
    "        sub_file = os.path.splittext(video_path)[0] + \".srt\"\n",
    "        sub_path = os.path.join(sub_folder, sub_file)\n",
    "        result_to_srt(result, sub_path)\n",
    "        done += 1\n",
    "        print(f\"{done}/{file_count}\")\n",
    "        "
   ]
  },
  {
   "cell_type": "code",
   "execution_count": null,
   "metadata": {},
   "outputs": [],
   "source": []
  }
 ],
 "metadata": {
  "kernelspec": {
   "display_name": "Python 3",
   "language": "python",
   "name": "python3"
  },
  "language_info": {
   "codemirror_mode": {
    "name": "ipython",
    "version": 3
   },
   "file_extension": ".py",
   "mimetype": "text/x-python",
   "name": "python",
   "nbconvert_exporter": "python",
   "pygments_lexer": "ipython3",
   "version": "3.11.8"
  }
 },
 "nbformat": 4,
 "nbformat_minor": 2
}
