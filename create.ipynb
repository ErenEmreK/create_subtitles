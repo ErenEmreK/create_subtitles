{
 "cells": [
  {
   "cell_type": "markdown",
   "metadata": {},
   "source": [
    "            TODO \n",
    "-> save models to further usage\n",
    "-> player"
   ]
  },
  {
   "cell_type": "code",
   "execution_count": 9,
   "metadata": {},
   "outputs": [],
   "source": [
    "import whisper\n",
    "import pysrt\n",
    "\n",
    "model = whisper.load_model(\"small\")"
   ]
  },
  {
   "cell_type": "code",
   "execution_count": 3,
   "metadata": {},
   "outputs": [
    {
     "name": "stdout",
     "output_type": "stream",
     "text": [
      " Ha-ha-ha-ha-ha-ha ! Ha-ha-ha-ha-ha ! Ha-ha-ha-ha ! Où va bien se passer ? Vous savez pourquoi ? Uh... Parce que la cavalerie est là ! Ha ! C'est le plus classe des super héros ! Je voudrais devenir comme lui quand j'aurai mon alterre. Il s'agit d'un cas désespéré. Peut-être qu'ils ont tous raison. J'ai jamais vu un type aussi minable que toi, tu n'as même pas d'altères. Alors tu ferais mieux d'éviter de partager mes ambitions. Tu n'es qu'un misérable bourrin rien sans alterre. Ils pensent tous la même chose de moi. Je suis désolée mon cœur. Je suis désolée tellement désolée. Non maman, tu ne comprenais pas. Ce n'était pas ce que je voulais entendre. Peu importe. Peu importe ce qu'on me dira, ça ne changera rien. Est-ce qu'on peut devenir un héros même si on n'a pas d'altères ? Est-ce qu'on peut devenir comme vous ? Même quand on n'a pas de superbe pouvoir ! Sans superbe pouvoir ? Oh les chers ! C'est pas vrai ! Pas maintenant ! Les gens se moquent de moi. C'est peut-être parce qu'ils ont tous un alterre et pas moi. Ou alors c'est pour une autre raison. Je ne sais pas. Parfois, ça me rend triste. En tout cas, alterre ou pas, il y a une chose dont je suis certain. C'est que j'ai toujours admiré les gens qui sauvent des vies. J'aimerais devenir un héros souriant et intrépide. Comme vous ! Ce qui s'est passé, c'est que je suis... ...un héros souriant. C'est qui, je m'en souviens ? C'est moi ! C'est moi ! C'est moi ! C'est moi ! C'est moi ! C'est moi ! C'est moi ! C'est moi ! C'est moi ! C'est moi ! C'est guère, je m'en souviens. Quel ordure ! Si seulement ce sel type n'avait pas été dans le courant. Hey, Katsuki ! Midoriya et toi, vous vous connaissez depuis toujours, non ? Tu y allais un peu fort avec lui tout à l'heure. Il n'avait qu'à pas se mettre sur mon chemin. T'énerves pas, je disais ça comme ça. Je te le promets, c'est mon rêve. Je n'arrive pas à m'imaginer faire autre chose. Tu connais le dicton ? Qui ne tente rien, n'a rien. Ce gosse n'est qu'un petit merdeux qui croit encore au Père Noël. Il me m'a mis en dehors de moi. On va se défouler à la salle d'Arcade. Tu veux venir avec nous ? Ouais. On va en face de la gare. Il y a plein de pigeons à plumer là-bas. T'es vraiment une enflure. Ça va pas ! Si je me fais choper, je risque de ruiner mon dossier ! Qu'est-ce que c'est que ça ? Parfait ! Un camouflage avec un bonnet de terre ! Qu'est-ce que c'est que ça, Tim ? Il est tout rabouillé ! Putain ! Il est passé haut ! C'est pas beau ! Vous êtes tout maire ! Vous êtes All Might ! Ouais, c'est bien moi, All Might. PAS ! Vous montez ! Tu vois les mecs à la piscine qui rentrent le ventre quand ils sortent de l'eau ? Eh ben c'est pareil. C'est rien d'avoir ! Quel heureux ! All Might est le plus grand. Il est toujours soniant. Et il a le cœur veillant. Ouais. Surtout gardez-vous. Tu as vu ma véritable apparence. S'il te plaît, ne révèle pas mon secret sur Internet. J'ai été blessé. Un ennemi m'a infligé ça il y a cinq ans. Il m'a fait perdre la moitié de mon appareil respiratoire et mon estomac. Entre les opérations et les séquelles de la blessure, j'ai été très affaiblé. Je suis très délicaté. Je suis très délicaté. Je suis très délicaté. Entre les opérations et les séquelles de la blessure, j'ai été très affaibli. Depuis, je suis obligé de limiter mon activité de héros. Je ne peux utiliser mon altère que trois heures par jour. Ah, c'est horrible ! Il y a cinq ans, vous dites, c'est Poison Chen-Sou qui vous a fait ça ? Je vois que tu t'y connais. Non, c'était pas lui. Cet avorton misérable ne m'arrive pas à la cheville. Le public n'a pas été mis au courant de cette histoire. Je ne voulais pas que l'affaire s'ébrouille. Je n'ai pas le droit de montrer des signes de faiblesse. Je suis un symbole de paix, celui qui sauve les gens en gardant le sourire. Ce sourire me permet de surmonter la pression d'être un super héros. Mais pas seulement. Ça m'empêche aussi de me laisser envahir par la peur. Un pro doit mettre sa vie en jeu à chaque instant. Je ne vais pas te mentir, c'est pas dans mes habitudes. Saches que sans Alther, tu ne pourras pas y arriver. Je vois. Si tu veux vraiment aider les gens, tu peux devenir policier. C'est un métier tout à fait respectable. On leur reproche de se contenter de réceptionner nos prises. Mais ils sont plus utiles que ce qu'on croit. C'est bien d'avoir des rêves dans la vie. Seulement, jeune homme, il faut aussi savoir accepter la réalité. En route, il faut que j'aille livrer ce vilain. Il manquait plus que ça. Un vilain ! Je dois voir quel héros vous sont occupés ! Non. Je vais pas te mentir, c'est pas dans mes habitudes. Saches que sans Alther, tu ne pourras pas y arriver. Ah ! Ah ! Ah ! Il a pris un gamin en otage ! Laisse le partir tout de suite, espèce de lâche ! Mais c'est quoi ce truc ? Je ne suis pas de prise ! Beren des, ça va ? Attention ! Ne vous approchez pas de moi. Je vais pas me laisser faire. C'est quoi ta demande de réussir à pas m'amaler ? Saloperie ! Saloperie ! Ce gosse insuperalterre, j'ai décroché le gros loup. Pour ne pas rendre une telle puissance, je vais pouvoir me fanger de l'autre ! Bon sang, tu sais qui est ce super vilain ? Il a un sacré niveau. Il est là-ri, hein ? C'est mort, Clési, l'anombelle héros, il ! Oh, il ! Non, c'est pas vrai ! Je peux pas marcher dans cette rue étroite, il me faut au moins deux voix ! Il est flamme ! N'hésitez pas trop, mon truc ! Je prête à éviter ! Je vous laisse la place pour une fois ! Merci Lucadeau, j'ai du mal à contenir l'incendie ! Où sont les pompiers ? Vous en êtes où, les gars ? Il est liquide, on peut pas l'attraper. Et le gamin qui l'a pris en otage déchêne son pouvoir. Cet endroit est un champ de mine ! On ne peut même pas s'approcher ! Attention ! C'est mort, on laisse tomber ! Personne ici est capable de gérer la situation ! Il faut attendre quelqu'un avec un altère adapté ! En ce temps, on doit limiter les dégâts ! Ne t'en fais pas, ça ne devrait pas être long ! C'est pour le gamin que ça m'embête. Il faut qu'il s'accroche pour tenir le coup ! Merde ! Est-ce qu'on va trouver quelqu'un d'assez puissant pour nous débarrasser de ce monstre ? Ils ont l'air mal barrés ! Oh, je suis super héros ! J'ai dû le laisser tomber. J'étais obsédé par le temps qu'il me restait, au lieu de me concentrer sur l'essentiel. D'ailleurs, qui je suis pour me permettre de passer un savon à un méfale ? Je suis vraiment lamentable. Il est en troisième et il croit encore que ses rêves de gamin vont se réaliser. Il est temps de penser sérieusement à votre avenir. Il faut aussi savoir accepter la réalité. Tout le monde le dit, même le meilleur des héros. Pourquoi ça me fait pleurer ? Au fond de moi, je l'ai toujours su. C'est même pour ça que je me suis autant obstiné. J'ai fait tout ce que j'ai pu pour me voler la face ! C'est là ? Explosion de tout à l'heure venait de là ? C'est dingue. Mes jambes m'ont amené ici toute seule. Je ne devrais pas trop m'approcher, je vais me faire du mal. Qu'est-ce qu'il fait là, lui ? Oh, le maître l'avait attrapé, comment il a pu s'échapper ? Il a dû le faire tomber. Ça veut dire que... C'est de ma faute. C'est sûr. Pourquoi les héros ne réagissent pas ? Un collégien a été pris en otage. Les héros n'osent pas intervenir, ils ont peur de le mettre en danger. Ce monstre a pris un otage et personne ne fait rien ! Pourquoi il devra en durer suplice ? Quand je pense que j'ai cru que je mourais, alors que pour moi, ça n'a duré que quelques minutes. Comment fait-il ? Je reconnais ce super vilain. C'est celui qu'Holmite poursuivait tout à l'heure. Holmite est en ville ? C'est vrai ? Vous l'avez vu ? Oui, moi, je l'ai aperçu il n'y a pas longtemps. Vous êtes sérieuses ? Dans ce cas, pourquoi il vient pas régler la situation ? C'est ma faute. À cause de moi, il ne peut pas intervenir. Je suis lamentable. Ils ne peuvent pas attraper ce vilain. Ils attendent le héros avec l'altère adapté ? Lamentable. Tiens bon. Je suis désolé pour toi, vraiment. Lamentable. Accroche-toi, ils et secours vont arriver. Je suis lamentable. Un héros va venir. Il va te sortir de l'agence, je suis sûr. Ah ! Prenez bien, idiot ! Il va passer trop dangereux ! C'est le mort que je veux tout à l'heure. Des coups ? Qu'est-ce qui m'arrive ? Pourquoi je fais ça ? Pourquoi ? Mort par explosion ! Qu'est-ce qui se passe ? Qu'est-ce que je fais ? Qu'est-ce qu'il faut faire dans ces galards ? C'est pas un cheveu de sac ! Prends ça ! Kat-Jan ! Des coups ! Qu'est-ce que tu fous là ? Mais j'en m'en portais toute seule ! J'y peux rien ! On doit y avoir plusieurs raisons qui m'ont poussé. Il s'agit d'un cas de s'espérer, c'est une faute. Il faudrait mieux d'éviter de partager mes ambitions. C'est mon rêve, Kat-Jan ! Je veux aussi savoir à ce que tu as l'intention. Il garde toujours sourire quand il sauve les gens. Ce qui est sûr, c'est qu'à cet instant précis, j'ai vu tes yeux. C'est comme s'il me demandait de venir te sauver. Arrête tout de suite ! C'est pas possible ! Je ne peux pas être aussi lamentable ! J'en ai presque terminé avec lui ! Alors friche-moi en paix ! C'est de la folie, le gamin va se faire tuer ! Je ne suis vraiment pas fier de moi ! All Might ! Après tout ce que je t'ai raconté tout à l'heure, je ne pouvais pas rester les bras croisés ! Le Travelle, un pro n'hésite jamais à mettre sa vie en jeu ! All Might ! Each Out ! Smash ! Smash ! Il pleut ! Il a eu une baisse soudaine de la pression atmosphérique ? Il a dû créer un courant ascendant avec son point ! Il a réussi à fabriquer des nuages ! C'est complètement dingue ! Il a modifié la météo en rien qu'avec un coup du droit ! Quel talent ! All Might est le plus fort ! Il a fait le plus grand pour le monde ! Les autres héros ont rangé tous les morceaux du vilain dans des sacs. Puis ils les ont remis aux forces de l'ordre. J'ai deux mots à te dire ! Tu aurais pu te faire tuer ! La situation était déjà assez compliquée ! Tu aurais pas du temps mêler ! Je me suis fait remonter les bretelles. Gacha, nuit, recevait des compliments. Bravo mon garçon, quel courage ! Et ton altère est formidable ! N'hésite pas à m'appeler quand tu seras devenu pro ! J'aurais bien besoin d'un partenaire de ta trempe ! Je suis désolé pour l'invité. Mais il était apparaît par les journalistes. Tant pis, je lui enverrai un mail quand j'arriverai à la maison. Décours ! Gatchan ? Juste une chose ! Je t'ai jamais appelé au secours et c'est pas prêt d'arriver ! Je t'ai jamais appelé au secours ! Je t'ai jamais appelé au secours ! Je t'ai jamais appelé au secours ! Je t'ai jamais appelé au secours et c'est pas prêt d'arriver ! De toute façon, t'as rien fait ! Minable ! T'es chez de me prendre de haut ! T'es qu'un misérable bourre à rien qui ne m'aime pas d'altère ! Tu t'attendais à quoi ? Je n'avais pas besoin de toi ! Tu m'entends ? Espèce de sale nerd ! Quel mauvais caractère ! Quoi qu'il en soit, il a raison. On a intervention, on a rien changé à la situation. Enfance n'est peut-être pas plus mal. Il faut que je me décide à trouver une nouvelle voie. La cavalerie est là ! Mais c'est All Might ! Qu'est-ce que vous faites là ? Où sont passés les journalistes qui étaient avec vous ? Je les ai semer, on n'a rien de temps ! Et tu sais pourquoi ? Parce que je suis le puissant All Might ! Ah ! Ah mon garçon ! Je te prie de m'excuser. Je voudrais aussi te faire une proposition. Ah ! C'est grâce à toi que j'ai sauvé le gamin. C'est parce que tu m'as raconté ton histoire. Sans toi, je n'aurais été qu'un beau parlerre. Je te remercie. C'est pas vrai ! Le vilain s'est échappé à cause de moi ! Je vous ai dérangé pendant le travail. Je vous racontais mes rêves. Je n'ai même pas d'Alterre. Justement. Tu es le seul qui a osé intervenir. Pourtant, tu n'as aucun pouvoir pour te protéger des super-villes. Ton courage m'a ouvert les yeux. Tous les plus grands héros se sont fait remarquer avant de quitter le collège. Ils disent tous la même chose. Ils disent que leur corps a réagis avant qu'ils aient eu le temps de réfléchir. Ah ! Je ne sais pas pourquoi. Les paroles de ma mère me sont revenus à ce moment-là. Je suis désolée, mon cœur ! Je suis désolée, tellement désolée ! C'est ce qui t'a arrivé. C'est comme ça que ça s'est passé. Ce n'était pas ce que je voulais entendre, maman. Ce n'était pas ce que je voulais que tu me disses ce jour-là. J'aurais voulu entendre autre chose. Tu peux y arriver. Tu peux devenir un super-héros. Parfois, les rêves se réalisent. J'ai oublié de vous dire que cette histoire, c'est celle de ma destinée. Je vais vous raconter comment je suis devenu un super-héros. Mon garçon, est-ce que tu te sens prêt à hériter de mon pouvoir ? Je ne sais pas pourquoi. Je ne sais pas pourquoi. Je vais vous raconter comment je suis devenu un super-héros. Je vais vous raconter comment je suis devenu un super-héros. Je vais vous raconter comment je suis devenu un super-héros. Je vais vous raconter comment je suis devenu un super-héros. Je vais vous raconter comment je suis devenu un super-héros. Je vais vous raconter comment je suis devenu un super-héros. Je vais vous raconter comment je suis devenu un super-héros. Je vais vous raconter comment je suis devenu un super-héros. Je vais vous raconter comment je suis devenu un super-héros. Mon garçon, est-ce que tu te sens prêt à hériter de mon pouvoir ? Vous allez me donner votre alter ? Exactement. Je vais t'offrir le One for All. Oh, c'est pas vrai. Je vais devenir un héros. Ha ha, non, c'est impossible. Ton corps ne le supporterait pas. Ah ! Prochain épisode, le Condement des Muscles. Le petit Izouk ou Midoriya va se transformer en armoire à glace. Au-delà des limites. Oh, c'est pas vrai. Je vais te donner le One for All. Oh, c'est pas vrai. Je vais devenir un héros. Oh, c'est pas vrai. Je vais devenir un héros. Au-delà des limites. Plus ultra.\n"
     ]
    }
   ],
   "source": [
    "result = model.transcribe(\"C:\\Movies\\My Hero Academia S01 (2016) MULTi 1080p 10bits BluRay x265 AAC v2 -Punisher694\\My Hero Academia S01E02 MULTi 1080p 10bits BluRay x265 AAC -Punisher694.mkv\")\n",
    "print(result[\"text\"])"
   ]
  },
  {
   "cell_type": "code",
   "execution_count": 18,
   "metadata": {},
   "outputs": [
    {
     "data": {
      "text/plain": [
       "{'id': 339,\n",
       " 'seek': 146542,\n",
       " 'start': 1467.42,\n",
       " 'end': 1469.42,\n",
       " 'text': ' Plus ultra.',\n",
       " 'tokens': [50464, 7721, 14808, 13, 50564],\n",
       " 'temperature': 0.0,\n",
       " 'avg_logprob': -0.1765318065881729,\n",
       " 'compression_ratio': 0.8048780487804879,\n",
       " 'no_speech_prob': 0.7675584554672241}"
      ]
     },
     "execution_count": 18,
     "metadata": {},
     "output_type": "execute_result"
    }
   ],
   "source": [
    "result['segments'][-1]"
   ]
  },
  {
   "cell_type": "code",
   "execution_count": 26,
   "metadata": {},
   "outputs": [],
   "source": [
    "def convert_time(seconds):\n",
    "\n",
    "    hours = int(seconds // 3600)\n",
    "    remaining_seconds = seconds % 3600\n",
    "    \n",
    "    minutes = int(remaining_seconds // 60)\n",
    "    remaining_seconds %= 60\n",
    "    \n",
    "    seconds = int(remaining_seconds)\n",
    "    miliseconds = int((remaining_seconds - seconds) * 1000)\n",
    "    \n",
    "    return hours, minutes, seconds, miliseconds\n"
   ]
  },
  {
   "cell_type": "code",
   "execution_count": 12,
   "metadata": {},
   "outputs": [],
   "source": [
    "def text_to_srt(result, output_file):\n",
    "    subs = pysrt.SubRipFile()\n",
    "    \n",
    "    for segment in result['segments']:\n",
    "        sub_item = pysrt.SubRipItem(start=pysrt.SubRipTime(segment['start']), \n",
    "                                    end=pysrt.SubRipTime(segment['end']), \n",
    "                                    text=segment['text'])\n",
    "        subs.append(sub_item)\n",
    "    subs.save(output_file, encoding='utf-8')\n",
    "    "
   ]
  },
  {
   "cell_type": "code",
   "execution_count": 16,
   "metadata": {},
   "outputs": [
    {
     "data": {
      "text/plain": [
       "'c:\\\\Users\\\\vlns\\\\Desktop\\\\kaggle_projects\\\\contradictory_dear_watson'"
      ]
     },
     "execution_count": 16,
     "metadata": {},
     "output_type": "execute_result"
    }
   ],
   "source": [
    "import os\n",
    "os. getcwd()"
   ]
  },
  {
   "cell_type": "code",
   "execution_count": 14,
   "metadata": {},
   "outputs": [],
   "source": [
    "text_to_srt(result, 'out.srt')"
   ]
  }
 ],
 "metadata": {
  "kernelspec": {
   "display_name": "Python 3",
   "language": "python",
   "name": "python3"
  },
  "language_info": {
   "codemirror_mode": {
    "name": "ipython",
    "version": 3
   },
   "file_extension": ".py",
   "mimetype": "text/x-python",
   "name": "python",
   "nbconvert_exporter": "python",
   "pygments_lexer": "ipython3",
   "version": "3.11.8"
  }
 },
 "nbformat": 4,
 "nbformat_minor": 2
}
