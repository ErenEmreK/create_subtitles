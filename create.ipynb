{
 "cells": [
  {
   "cell_type": "markdown",
   "metadata": {},
   "source": [
    "            TODO \n",
    "-> save models to further usage\n",
    "-> player"
   ]
  },
  {
   "cell_type": "code",
   "execution_count": 5,
   "metadata": {},
   "outputs": [],
   "source": [
    "\n",
    "import os"
   ]
  },
  {
   "cell_type": "code",
   "execution_count": 6,
   "metadata": {},
   "outputs": [],
   "source": [
    "import whisper\n",
    "import pysrt\n",
    "\n",
    "model = whisper.load_model(\"tiny\")"
   ]
  },
  {
   "cell_type": "code",
   "execution_count": 16,
   "metadata": {},
   "outputs": [],
   "source": [
    "def convert_time(seconds):\n",
    "\n",
    "    hours = int(seconds // 3600)\n",
    "    remaining_seconds = seconds % 3600\n",
    "    \n",
    "    minutes = int(remaining_seconds // 60)\n",
    "    remaining_seconds %= 60\n",
    "    \n",
    "    seconds = int(remaining_seconds)\n",
    "    miliseconds = int((remaining_seconds - seconds) * 1000)\n",
    "    \n",
    "    return (hours, minutes, seconds, miliseconds)\n"
   ]
  },
  {
   "cell_type": "code",
   "execution_count": null,
   "metadata": {},
   "outputs": [],
   "source": [
    "def get_video_paths(input):\n",
    "    "
   ]
  },
  {
   "cell_type": "code",
   "execution_count": 11,
   "metadata": {},
   "outputs": [],
   "source": [
    "ex_res = model.transcribe('C:\\\\Users\\\\vlns\\\\Desktop\\\\sub_ex2\\\\My Hero Academia S01E06 MULTi 1080p 10bits BluRay x265 AAC -Punisher694.mkv')"
   ]
  },
  {
   "cell_type": "code",
   "execution_count": 17,
   "metadata": {},
   "outputs": [],
   "source": [
    "def result_to_srt(result, output_file, glue):\n",
    "    #We create our srt object\n",
    "    subs = pysrt.SubRipFile()\n",
    "\n",
    "    if not glue:\n",
    "        #If glue method isnt used, we create subtitle instances for every sentence\n",
    "        #in our result, using its start-end timestamps\n",
    "        for segment in result['segments']:\n",
    "            start_time = convert_time(segment['start']) \n",
    "            end_time = convert_time(segment['end'])\n",
    "            \n",
    "            sub_item = pysrt.SubRipItem(start=start_time, \n",
    "                                        end=end_time, \n",
    "                                        text=segment['text'])\n",
    "            subs.append(sub_item)\n",
    "\n",
    "    else:\n",
    "        for i in range(len(result['segments']) - 1):\n",
    "            start_time = convert_time(result['segments'][i]['start'])\n",
    "            end_time = convert_time(result['segments'][i+1]['start'])\n",
    "            \n",
    "            sub_item = pysrt.SubRipItem(start=start_time, \n",
    "                                        end=end_time, \n",
    "                                        text=result['segments'][i]['text'])\n",
    "            subs.append(sub_item)\n",
    "        last_sub_item = pysrt.SubRipItem(start=convert_time(result['segments'][-1]['start']), \n",
    "                                        end=convert_time(result['segments'][-1]['end']), \n",
    "                                        text=result['segments'][-1]['text'])\n",
    "    subs.save(output_file, encoding='utf-8')\n",
    "    print(f'Subtitle file {output_file} is ready.')   "
   ]
  },
  {
   "cell_type": "code",
   "execution_count": 18,
   "metadata": {},
   "outputs": [
    {
     "name": "stdout",
     "output_type": "stream",
     "text": [
      "Subtitle file C:\\Users\\vlns\\Desktop\\sub_ex2\\My Hero Academia S01E06 MULTi 1080p 10bits BluRay x265 AAC -Punisher694.srt is ready.\n"
     ]
    }
   ],
   "source": [
    "result_to_srt(ex_res, 'C:\\\\Users\\\\vlns\\\\Desktop\\\\sub_ex2\\\\My Hero Academia S01E06 MULTi 1080p 10bits BluRay x265 AAC -Punisher694.srt', glue=True)"
   ]
  },
  {
   "cell_type": "code",
   "execution_count": 20,
   "metadata": {},
   "outputs": [],
   "source": [
    "def subtitles_for_folder(video_folder, sub_folder, sub_extension='.srt', glue=False):\n",
    "    files = os.listdir(video_folder)\n",
    "    file_count = len(files)\n",
    "    done = 0\n",
    "    for file in files:\n",
    "        video_path = os.path.join(video_folder, file)\n",
    "        result = model.transcribe(video_path)\n",
    "        \n",
    "        sub_file = os.path.splitext(video_path)[0] + sub_extension\n",
    "        sub_path = os.path.join(sub_folder, sub_file)\n",
    "        if sub_extension == '.srt':\n",
    "            result_to_srt(result, sub_path, glue=glue)\n",
    "            done += 1\n",
    "            print(f\"{done}/{file_count}\")\n",
    "        else:\n",
    "            #TODO implement other subtitle formats\n",
    "            print(f\"Unable to create {sub_extension} files. Use '.srt' instead.\")\n",
    "            break\n",
    "    \n",
    "    \n",
    "        "
   ]
  },
  {
   "cell_type": "code",
   "execution_count": 21,
   "metadata": {},
   "outputs": [
    {
     "name": "stdout",
     "output_type": "stream",
     "text": [
      "Subtitle file C:\\Users\\vlns\\Desktop\\sub_ex2\\My Hero Academia S01E07 MULTi 1080p 10bits BluRay x265 AAC -Punisher694.srt is ready.\n",
      "1/3\n",
      "Subtitle file C:\\Users\\vlns\\Desktop\\sub_ex2\\My Hero Academia S01E08 MULTi 1080p 10bits BluRay x265 AAC -Punisher694.srt is ready.\n",
      "2/3\n",
      "Subtitle file C:\\Users\\vlns\\Desktop\\sub_ex2\\My Hero Academia S01E09 MULTi 1080p 10bits BluRay x265 AAC -Punisher694.srt is ready.\n",
      "3/3\n"
     ]
    }
   ],
   "source": [
    "subtitles_for_folder('C:\\\\Users\\\\vlns\\\\Desktop\\\\sub_ex2', 'C:\\\\Users\\\\vlns\\\\Desktop\\\\sub_ex2', glue=True)"
   ]
  },
  {
   "cell_type": "code",
   "execution_count": 22,
   "metadata": {},
   "outputs": [],
   "source": [
    "def get_input_paths(input):\n",
    "    if os.path.isfile(input):\n",
    "        return [input]\n",
    "    elif os.path.isdir(input):\n",
    "        return [os.path.join(input, file) for file in os.listdir(input)]\n",
    "    else:\n",
    "        print(f\"Couldn't reach {input}\")\n",
    "        return None"
   ]
  },
  {
   "cell_type": "code",
   "execution_count": 26,
   "metadata": {},
   "outputs": [
    {
     "name": "stdout",
     "output_type": "stream",
     "text": [
      "Couldn't reach C:\\Users\\vlns\\Desktop\\sub_ex2\\My Hero Acdasademia S01E07 MULTi 1080p 10bits BluRay x265 AAC -Punisher694.mkv\n"
     ]
    }
   ],
   "source": [
    "paths = get_input_paths('C:\\\\Users\\\\vlns\\\\Desktop\\\\sub_ex2\\\\My Hero Acdasademia S01E07 MULTi 1080p 10bits BluRay x265 AAC -Punisher694.mkv')\n",
    "paths"
   ]
  },
  {
   "cell_type": "code",
   "execution_count": null,
   "metadata": {},
   "outputs": [],
   "source": []
  }
 ],
 "metadata": {
  "kernelspec": {
   "display_name": "Python 3",
   "language": "python",
   "name": "python3"
  },
  "language_info": {
   "codemirror_mode": {
    "name": "ipython",
    "version": 3
   },
   "file_extension": ".py",
   "mimetype": "text/x-python",
   "name": "python",
   "nbconvert_exporter": "python",
   "pygments_lexer": "ipython3",
   "version": "3.11.8"
  }
 },
 "nbformat": 4,
 "nbformat_minor": 2
}
