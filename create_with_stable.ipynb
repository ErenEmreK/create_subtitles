{
 "cells": [
  {
   "cell_type": "code",
   "execution_count": 3,
   "metadata": {},
   "outputs": [],
   "source": [
    "video_path = \"C:\\\\Users\\\\vlns\\\\Desktop\\\\command_line\\\\My Hero Academia S01E12 MULTi 1080p 10bits BluRay x265 AAC -Punisher694.mkv\"\n"
   ]
  },
  {
   "cell_type": "code",
   "execution_count": 1,
   "metadata": {},
   "outputs": [],
   "source": [
    "import stable_whisper\n",
    "model = stable_whisper.load_model('small')"
   ]
  },
  {
   "cell_type": "code",
   "execution_count": 4,
   "metadata": {},
   "outputs": [
    {
     "name": "stderr",
     "output_type": "stream",
     "text": [
      "c:\\Users\\vlns\\Python\\Python311\\Lib\\site-packages\\stable_whisper\\whisper_compatibility.py:242: UserWarning: The installed version of Whisper might be incompatible.\n",
      "The detected version appears to be installed from the repository which can have compatibility issues due to multiple commits sharing the same version number. It is recommended to install version 20231117 from PyPI.\n",
      "To prevent errors and performance issues, reinstall correct version with: \"pip install --upgrade --no-deps --force-reinstall openai-whisper==20231117\". Or use transcribe_minimal().\n",
      "  warnings.warn(compatibility_warning)\n",
      "Transcribe:   0%|          | 0/1457.13 [00:02<?, ?sec/s]"
     ]
    },
    {
     "name": "stdout",
     "output_type": "stream",
     "text": [
      "Detected language: french\n"
     ]
    },
    {
     "name": "stderr",
     "output_type": "stream",
     "text": [
      "Transcribe: 100%|█████████▉| 1455.02/1457.13 [05:40<00:00,  4.28sec/s]\n"
     ]
    },
    {
     "name": "stdout",
     "output_type": "stream",
     "text": [
      "Saved: C:\\Users\\vlns\\Desktop\\sub_ex2\\My Hero Academia S01E11 MULTi 1080p 10bits BluRay x265 AAC -Punisher694123.srt\n"
     ]
    }
   ],
   "source": [
    "result = model.transcribe(video_path)\n",
    "result.to_srt_vtt(\"C:\\\\Users\\\\vlns\\\\Desktop\\\\sub_ex2\\\\My Hero Academia S01E11 MULTi 1080p 10bits BluRay x265 AAC -Punisher694123.srt\")"
   ]
  },
  {
   "cell_type": "code",
   "execution_count": 16,
   "metadata": {},
   "outputs": [
    {
     "name": "stdout",
     "output_type": "stream",
     "text": [
      "Saved: C:\\Users\\vlns\\Desktop\\sub_ex2\\My Hero Academia S01E11 MULTi 1080p 10bits BluRay x265 AAC -Punisher694112213.srt\n"
     ]
    }
   ],
   "source": [
    "result.to_srt_vtt(\"C:\\\\Users\\\\vlns\\\\Desktop\\\\sub_ex2\\\\My Hero Academia S01E11 MULTi 1080p 10bits BluRay x265 AAC -Punisher694112213.srt\", tag=('<font color=\"#FFFFFF\">', '</font>'))"
   ]
  },
  {
   "cell_type": "code",
   "execution_count": 5,
   "metadata": {},
   "outputs": [
    {
     "name": "stdout",
     "output_type": "stream",
     "text": [
      "Saved: C:\\Users\\vlns\\Desktop\\command_line\\My Hero Academia S01E12 MULTi 1080p 10bits BluRay x265 AAC -Punisher694wtags.srt\n"
     ]
    }
   ],
   "source": [
    "result.to_srt_vtt(\"C:\\\\Users\\\\vlns\\\\Desktop\\\\command_line\\\\My Hero Academia S01E12 MULTi 1080p 10bits BluRay x265 AAC -Punisher694wtags.srt\", tag=('<font color=\"#FFFFFF\">', '</font>'))"
   ]
  },
  {
   "cell_type": "code",
   "execution_count": 6,
   "metadata": {},
   "outputs": [
    {
     "name": "stdout",
     "output_type": "stream",
     "text": [
      "Saved: C:\\Users\\vlns\\Desktop\\command_line\\My Hero Academia S01E12 MULTi 1080p 10bits BluRay x265 AAC -Punisher694wnone.srt\n"
     ]
    }
   ],
   "source": []
  },
  {
   "cell_type": "code",
   "execution_count": 7,
   "metadata": {},
   "outputs": [
    {
     "name": "stderr",
     "output_type": "stream",
     "text": [
      "Refine: 100%|██████████| 1455.02/1455.02 [06:55<00:00,  3.50sec/s]           \n"
     ]
    }
   ],
   "source": [
    "refined = model.refine(video_path, result)"
   ]
  },
  {
   "cell_type": "code",
   "execution_count": 8,
   "metadata": {},
   "outputs": [
    {
     "name": "stdout",
     "output_type": "stream",
     "text": [
      "Saved: C:\\Users\\vlns\\Desktop\\command_line\\My Hero Academia S01E12 MULTi 1080p 10bits BluRay x265 AAC -Punisher694ref.srt\n"
     ]
    }
   ],
   "source": [
    "refined.to_srt_vtt(\"C:\\\\Users\\\\vlns\\\\Desktop\\\\command_line\\\\My Hero Academia S01E12 MULTi 1080p 10bits BluRay x265 AAC -Punisher694ref.srt\", tag=None)"
   ]
  }
 ],
 "metadata": {
  "kernelspec": {
   "display_name": "Python 3",
   "language": "python",
   "name": "python3"
  },
  "language_info": {
   "codemirror_mode": {
    "name": "ipython",
    "version": 3
   },
   "file_extension": ".py",
   "mimetype": "text/x-python",
   "name": "python",
   "nbconvert_exporter": "python",
   "pygments_lexer": "ipython3",
   "version": "3.11.8"
  }
 },
 "nbformat": 4,
 "nbformat_minor": 2
}
