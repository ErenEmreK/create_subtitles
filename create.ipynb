{
 "cells": [
  {
   "cell_type": "markdown",
   "metadata": {},
   "source": [
    "            TODO \n",
    "-> save models to further usage\n",
    "-> player"
   ]
  },
  {
   "cell_type": "code",
   "execution_count": 33,
   "metadata": {},
   "outputs": [],
   "source": [
    "import pysrt\n",
    "import joblib\n",
    "\n",
    "\n",
    "model = joblib.load('C:\\dev\\whisper_models\\whisper_small.pkl')"
   ]
  },
  {
   "cell_type": "code",
   "execution_count": 36,
   "metadata": {},
   "outputs": [],
   "source": [
    "import os"
   ]
  },
  {
   "cell_type": "code",
   "execution_count": 39,
   "metadata": {},
   "outputs": [],
   "source": [
    "import whisper\n",
    "import pysrt\n",
    "\n",
    "model = whisper.load_model(\"medium\")"
   ]
  },
  {
   "cell_type": "code",
   "execution_count": 30,
   "metadata": {},
   "outputs": [
    {
     "name": "stdout",
     "output_type": "stream",
     "text": [
      " Ha ha ha ha ha ha ha ha ha ha ha ha ha ha ha ha ha ha ha ha ha ha ha ha ha! BOUM! Tout va bien se passer. Vous savez pourquoi? Ouuuuuuuuuuuh! Parce que la cavalerie est là! C'est le plus classe des superhéros! Je voudrais devenir comme lui quand j'aurai mon alter. Il s'agit d'un cas désespéré. Peut-être qu'ils ont tous raison. J'ai jamais vu un type aussi minable que toi. Tu n'as même pas d'alter. Alors tu ferais mieux d'éviter de partager mes ambitions. Tu n'es qu'un misérable boirien sans alter. Ils pensent tous la même chose de moi. Je suis désolée, mon cœur. Je suis désolée, tellement désolée. Non, maman, tu ne comprenais pas. Ce n'était pas ce que je voulais entendre. Peu importe. Peu importe ce qu'on me dira, ça ne changera rien. Est-ce qu'on peut devenir un héros même si on n'a pas d'alter ? Est-ce qu'on peut devenir comme vous ? Même quand on n'a pas de super-pouvoir ? Sans super-pouvoir ? Oh, les chi-t. C'est pas vrai. Pas maintenant. Les gens se moquent de moi. C'est peut-être parce qu'ils ont tous un alter et pas moi. Ou alors c'est pour une autre raison. Je ne sais pas. Parfois, ça me rend triste. En tout cas, alter ou pas, il y a une chose dont je suis certain. C'est que j'ai toujours admiré les gens qui sauvent des vies. J'aimerais devenir un héros souriant et intrépide. Comme vous. Sous-titrage ST'501 Sous-titrage ST'501 Attends ! Oh, où est-ce que je suis ? Qu'est-ce qui s'est passé ? Exaust ! C'est bien, je m'en souviens. Exmaud ! Quelle ordure. Si seulement ce sale type n'avait pas été dans le courant. Hey, Katsuki. Midoriya et toi, vous vous connaissez depuis toujours, non ? Tu y allais un peu fort avec lui tout à l'heure. Il n'avait qu'à pas se mettre sur mon chemin. T'énerve pas, je disais ça comme ça. Je te le promets, c'est mon rêve. Je n'arrive pas à m'imaginer faire autre chose. Tu connais le dicton. Je crois que qui ne tente rien n'a rien. Ce gosse n'est qu'un petit merdeux qui croit encore au père Noël. Il me met hors de moi. On va se défouler à la salle d'arcade. Tu veux venir avec nous ? Hum ? Ouais. On va en face de la gare. Il y a plein de pigeons à plumer là-bas. T'es vraiment une enfure. Ça va pas ? Si je me fais choper, je risque de ruiner mon dossier. Qu'est-ce que c'est que ça ? Parfait ! Un camouflage avec un bonheur d'air. Qu'est-ce que c'est que ce type ? Il est tout rapide. Il est passé haut. C'est pas vous. Vous êtes tout maigre. Vous êtes All Might. Ouais, c'est bien moi All Might. Vos montées ! Tu vois les mecs à la piscine qui rentrent le ventre quand ils sortent de l'eau ? Eh ben, c'est pareil. Ça n'a rien à voir ! Quel aura ! All Might est le plus grand. Il est toujours souriant. Il a le cœur veillant. Ouais. Surtout, garde bien ça à l'esprit. Tu as vu ma véritable apparence. S'il te plaît, ne révèle pas mon secret sur Internet. J'ai été blessé. Un ennemi m'a infligé ça il y a cinq ans. Il m'a fait perdre la moitié de mon appareil respiratoire et mon estomac. Entre les opérations et les séquelles de la blessure, j'ai été très affaibli. Depuis, je suis obligé de limiter mon activité de héros. Je ne peux utiliser mon alter que trois heures par jour. C'est horrible ! Il y a cinq ans, vous dites, c'est Poison Chenso qui vous a fait ça ? Je vois que tu t'y connais. Non, c'était pas lui. Cet avorton misérable ne m'arrive pas à la cheville. Le public n'a pas été mis au courant de cette histoire. Je voulais pas que l'affaire s'ébrouite. Je n'ai pas le droit de montrer des signes de faiblesse. Je suis un symbole de paix, celui qui sauve les gens en gardant le sourire. Ce sourire me permet de surmonter la pression d'être un super héros. Mais pas seulement. Ça m'empêche aussi de me laisser envahir par la peur. Un pro doit mettre sa vie en jeu à chaque instant. Je ne vais pas te mentir, c'est pas dans mes habitudes. Saches que sans alter, tu ne pourras pas y arriver. Je vois. Si tu veux vraiment aider les gens, tu peux devenir policier. C'est un métier tout à fait respectable. On leur reproche de se contenter de réceptionner nos prises. Mais ils sont plus utiles que ce qu'on croit. C'est bien d'avoir des rêves dans la vie. Seulement, jeune homme, il faut aussi savoir accepter la réalité. En route, il faut que j'aille livrer ce vilain. Il manquait plus que ça. Un vilain ! Je dois voir quel héros vous en occuper. Non. Je ne vais pas te mentir, c'est pas dans mes habitudes. Saches que sans alter, tu ne pourras pas y arriver. Ah ! A ça ! Il a pris un gamin en otage. Laisse-le partir tout de suite, espèce de lâche ! Oh ! Mais c'est quoi, ce truc ? Il fait pas de prise ! Bear and Death, ça va ? Attention ! Ne vous approchez pas de moi. Je ne vais pas me laisser faire ! Ce gros tas de morve ne réussira pas à m'amaler ! Saloperie ! Ce gosse insuperhaltaire, j'ai décroché le gros lot. En me partant d'une telle puissance, je vais pouvoir me venger de l'autre héros ! Concentre, tu sais qui est ce super vilain ? Il a un sacré niveau. Il arrive ! Il manque les îles à domber l'héroïle ! Non, c'est pas vrai ! Je peux pas marcher dans cette rue étroite ! Il me faut au moins deux voies ! Les flammes ! C'est pas trop mon truc ! Je préfère éviter ! Je vous laisse la place pour une fois ! Merci, Lucado. J'ai du mal à contenir l'incendie. Où sont les pompiers ? Vous en êtes où, les gars ? Il est liquide, on peut pas l'attraper. Et le gamin qu'il a pris en otage déchaîne son pouvoir. Cet endroit est un champ de mines ! On ne peut même pas s'approcher ! Attention ! C'est mort, on laisse tomber ! Personne ici n'est capable de gérer la situation ! Il faut attendre quelqu'un avec un altère adapté ! Pendant ce temps, on doit limiter les dégâts ! Ne t'en fais pas, ça ne devrait pas être long ! C'est pour le gamin que ça m'embête. Il faut qu'il s'accroche pour tenir le coup. Merde ! Est-ce qu'on va trouver quelqu'un d'assez puissant pour nous débarrasser de ce monstre ? Oh, ils ont l'air mal barrés ! Oh, les super-héros ! J'ai dû le laisser tomber. J'étais obsédé par le temps qui me restait, au lieu de me concentrer sur l'essentiel. D'ailleurs, qui je suis pour me permettre de passer un savon à un de mes fans ? Je suis vraiment lamentable. Il est en troisième et il croit encore que ses rêves de gamin vont se réaliser. Il est temps de penser sérieusement à votre avenir. Il faut aussi savoir accepter la réalité. Tout le monde le dit, même le meilleur des héros. Pourquoi ça me fait pleurer ? Au fond de moi, je l'ai toujours su. C'est même pour ça que je me suis autant obstiné. J'ai fait tout ce que j'ai pu pour me voler la face ! C'est là ? L'explosion de tout à l'heure venait de là ? C'est dingue. Mes jambes m'ont amené ici toute seule. Je ne devrais pas trop m'approcher. Je vais me faire du mal. Qu'est-ce qu'il fait là, lui ? All Might l'avait attrapé. Comment a-t-il pu s'échapper ? Il a dû le faire tomber. Ça veut dire que... C'est de ma faute. C'est sûr. Pourquoi les héros ne réagissent pas ? Un collégien a été pris en otage. Les héros n'osent pas intervenir. Ils ont peur de le mettre en danger. Ce monstre a pris un otage et personne ne fait rien ! Pourquoi il devra en durée supplice ? Quand je pense que j'ai cru que je mourrais alors que pour moi ça n'a duré que quelques minutes. Comment fait-il ? Je reconnais ce super vilain. C'est celui qu'All Might poursuivait tout à l'heure. All Might est en ville ? C'est vrai ? Vous l'avez vu ? Oui, moi je l'ai aperçu il y a pas longtemps. Vous êtes sérieuse ? Dans ce cas pourquoi il vient pas régler la situation ? C'est ma faute. À cause de moi il ne peut pas intervenir. Je suis lamentable. Ils ne peuvent pas attraper ce vilain. Ils attendent le héros avec la terre adaptée. Lamentable. Tiens bon. Je suis désolée pour toi, vraiment. Lamentable. Accroche-toi, les secours vont arriver. Je suis lamentable. Un héros va venir. Il va te sortir de là, j'en suis sûre. Reviens, idiot ! Il va pas, c'est trop dangereux ! C'est le mort-vœu de tout à l'heure. Des coups. Qu'est-ce qui m'arrive ? Pourquoi je fais ça ? Pourquoi ? Mort par explosion ! Qu'est-ce qui se passe ? Qu'est-ce que je fais ? Qu'est-ce qu'il faut faire dans ces cas-là ? Deux poches, vingt-cinq ! C'est pas possible. C'est pas possible. C'est pas possible. Deux poches, vingt-cinq ! Prends ça ! Kajan ! Des coups ! Qu'est-ce que tu fous là ? Mes jambes ont porté toutes seules, j'y peux rien. Il doit y avoir plusieurs raisons qui m'ont poussé. Il s'agit d'un cas désespéré. Alors tu ferais mieux d'éviter de partager mes ambitions. Kajan ! Merci, c'est gentil. Il y a toujours sourire quand tu sauves les gens. Ce qui est sûr, c'est qu'à cet instant précis, j'ai vu tes yeux. C'est comme s'ils me demandaient de venir te sauver. Arrête tout de suite ! C'est pas possible. Je ne peux pas être aussi lamentable. J'en ai presque terminé avec lui. Alors flûche-moi l'empêche ! C'est de la folie, le gamin va se faire tuer ! Je ne suis vraiment pas fier de moi. Oh, le Maït ! Après tout ce que je t'ai raconté tout à l'heure, je ne pouvais pas rester les bras croisés ! Je te rappelle, un pro n'hésite jamais à mettre sa vie en jeu ! Oh, le Maït ! Detroit Smash ! DÉTRETE Il pleut ! Il y a eu une baisse soudaine de la pression atmosphérique. Il a dû créer un courant ascendant avec son poing ! Il a réussi à fabriquer des nuages. C'est complètement dingue ! Il a modifié la médeo rien qu'avec un coup du droit ! Quel talent ! Oh, le Maït est le plus fort ! Les autres héros ont rangé tous les morceaux du vilain dans des sacs. Puis ils les ont remis aux forces de l'ordre. J'ai deux mots à te dire. Tu aurais pu te faire tuer ! La situation était déjà assez compliquée. Je n'aurais pas dû t'emmêler ! Je me suis fait remonter les bretelles. Gatchan, lui, recevait des compliments. Bravo mon garçon, quel courage ! Il a réussi à faire un coup de droit ! Bravo mon garçon, quel courage ! Et ton altère est formidable ! N'hésite pas à m'appeler quand tu seras devenu pro ! J'aurai bien besoin d'un partenaire de ta trompe ! L'Homme de Maït J'aurais aimé présenter mes excuses à All Might, mais il était accaparé par les journalistes. Tant pis, je lui enverrai un mail quand j'arriverai à la maison. Découres ! Gatchan ? Juste une chose. Je t'ai jamais appelé au secours et c'est pas prêt d'arriver. De toute façon, t'as rien fait ! Minable ! T'essayes de me prendre de haut ! T'es qu'un misérable boireien qui n'a même pas d'altère ! Tu t'attendais à quoi ? J'avais pas besoin de toi ! Tu m'entends ? Espèce de sale nerd ! Quel mauvais caractère ! Quoi qu'il en soit, il a raison. Mon intervention n'a rien changé à la situation. Dans le fond, ce n'est peut-être pas plus mal. Il faut que je me décide à trouver une nouvelle voie. La cavalerie est là ! Mais c'est All Might ! Qu'est-ce que vous faites là ? Où sont passés les journalistes qui étaient avec vous ? Je les ai semés en arrière-temps ! Et tu sais pourquoi ? Parce que je suis le puissant All Might ! Aaaaaaah ! Ah mon garçon, je te prie de m'excuser. Je voudrais aussi te faire une proposition. C'est grâce à toi que j'ai sauvé le gamin. C'est parce que tu m'as raconté ton histoire. Sans toi, je n'aurais été qu'un beau parleur. Je te remercie. C'est pas vrai ! Le vilain s'est échappé à cause de moi ! Je vous ai dérangé pendant le travail. Je vous racontais mes rêves. Je n'ai même pas d'alter. Justement. Tu es le seul qui a osé intervenir. Pourtant, tu n'as aucun pouvoir pour te protéger des super-villains. Ton courage m'a ouvert les yeux. Tous les plus grands héros se sont fait remarquer avant de quitter le collège. Ils disent tous la même chose. Ils disent que leur corps a réagi avant qu'ils aient eu le temps de réfléchir. Je ne sais pas pourquoi, les paroles de ma mère me sont revenues à ce moment-là. Je suis désolée mon cœur ! Je suis désolée, tellement désolée ! C'est ce qui t'est arrivé. C'est comme ça que ça s'est passé. Ce n'était pas ce que je voulais entendre, maman. Je ne voulais pas que tu me fasses de mal. Ce n'était pas ce que je voulais entendre, maman. Ce n'était pas ce que je voulais que tu me dises ce jour-là. J'aurais voulu entendre autre chose. Tu peux y arriver. Tu peux devenir un super-héros. Parfois, les rêves se réalisent. J'ai oublié de vous dire que cette histoire, c'est celle de ma destinée. Je vais vous raconter comment je suis devenue un super-héros. Je ne peux pas me cacher. Je ne peux pas me cacher. Je ne peux pas me cacher. Je ne peux pas me cacher. Je ne peux pas me cacher. Je ne peux pas me cacher. Je ne peux pas me cacher. Je ne peux pas me cacher. Je ne peux pas me cacher. Je ne peux pas me cacher. Je ne peux pas me cacher. Je ne peux pas me cacher. Je ne peux pas me cacher. J'ai oublié de vous dire que cette histoire, c'est celle de ma destinée. Je vais vous raconter comment je suis devenue un super-héros. Je ne peux pas me cacher. Je ne peux pas me cacher. Je ne peux pas me cacher. C'est pas vrai, je vais devenir un héros. Ha ha, non, c'est impossible, ton corps ne le supporterait pas. Prochain épisode, le condement des muscles. Le petit Izuku Midoriya va se transformer en armoire à glace. Au-delà des limites. Plus Ultra !\n"
     ]
    }
   ],
   "source": [
    "result = model.transcribe(\"C:\\Movies\\My Hero Academia S01 (2016) MULTi 1080p 10bits BluRay x265 AAC v2 -Punisher694\\My Hero Academia S01E02 MULTi 1080p 10bits BluRay x265 AAC -Punisher694.mkv\")"
   ]
  },
  {
   "cell_type": "code",
   "execution_count": 4,
   "metadata": {},
   "outputs": [],
   "source": [
    "def convert_time(seconds):\n",
    "\n",
    "    hours = int(seconds // 3600)\n",
    "    remaining_seconds = seconds % 3600\n",
    "    \n",
    "    minutes = int(remaining_seconds // 60)\n",
    "    remaining_seconds %= 60\n",
    "    \n",
    "    seconds = int(remaining_seconds)\n",
    "    miliseconds = int((remaining_seconds - seconds) * 1000)\n",
    "    \n",
    "    return (hours, minutes, seconds, miliseconds)\n"
   ]
  },
  {
   "cell_type": "code",
   "execution_count": 31,
   "metadata": {},
   "outputs": [],
   "source": [
    "def result_to_srt(result, output_file):\n",
    "    subs = pysrt.SubRipFile()\n",
    "    \n",
    "    for segment in result['segments']:\n",
    "        start_time = convert_time(segment['start']) \n",
    "        end_time = convert_time(segment['end'])\n",
    "        \n",
    "        sub_item = pysrt.SubRipItem(start=start_time, \n",
    "                                    end=end_time, \n",
    "                                    text=segment['text'])\n",
    "        subs.append(sub_item)\n",
    "    subs.save(output_file, encoding='utf-8')\n",
    "    print(f'Subtitle file {output_file} is ready.')   "
   ]
  },
  {
   "cell_type": "code",
   "execution_count": 32,
   "metadata": {},
   "outputs": [
    {
     "name": "stdout",
     "output_type": "stream",
     "text": [
      "Subtitle file output2.srt is ready.\n"
     ]
    }
   ],
   "source": [
    "result_to_srt(result, 'output2.srt')"
   ]
  },
  {
   "cell_type": "code",
   "execution_count": 37,
   "metadata": {},
   "outputs": [],
   "source": [
    "def subtitles_for_folder(video_folder, sub_folder, sub_extension='.srt'):\n",
    "    files = os.listdir(video_folder)\n",
    "    file_count = len(files)\n",
    "    done = 0\n",
    "    for file in files:\n",
    "        video_path = os.path.join(video_folder, file)\n",
    "        result = model.transcribe(video_path)\n",
    "        \n",
    "        sub_file = os.path.splitext(video_path)[0] + sub_extension\n",
    "        sub_path = os.path.join(sub_folder, sub_file)\n",
    "        if sub_extension == '.srt':\n",
    "            result_to_srt(result, sub_path)\n",
    "            done += 1\n",
    "            print(f\"{done}/{file_count}\")\n",
    "        else:\n",
    "            #TODO implement other subtitle formats\n",
    "            print(f\"Unable to create {sub_extension} files. Use '.srt' instead.\")\n",
    "            break\n",
    "        "
   ]
  },
  {
   "cell_type": "code",
   "execution_count": 40,
   "metadata": {},
   "outputs": [],
   "source": [
    "subtitles_for_folder('C:\\\\Users\\\\vlns\\\\Desktop\\\\sub_ex2', 'C:\\\\Users\\\\vlns\\\\Desktop\\\\sub_ex2')"
   ]
  }
 ],
 "metadata": {
  "kernelspec": {
   "display_name": "Python 3",
   "language": "python",
   "name": "python3"
  },
  "language_info": {
   "codemirror_mode": {
    "name": "ipython",
    "version": 3
   },
   "file_extension": ".py",
   "mimetype": "text/x-python",
   "name": "python",
   "nbconvert_exporter": "python",
   "pygments_lexer": "ipython3",
   "version": "3.11.8"
  }
 },
 "nbformat": 4,
 "nbformat_minor": 2
}
