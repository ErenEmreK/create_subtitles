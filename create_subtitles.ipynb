{
 "cells": [
  {
   "cell_type": "code",
   "execution_count": 1,
   "metadata": {
    "metadata": {}
   },
   "outputs": [],
   "source": [
    "import sys\n",
    "import os\n",
    "\n",
    "import whisper\n",
    "import pysrt"
   ]
  },
  {
   "cell_type": "code",
   "execution_count": 2,
   "metadata": {
    "metadata": {}
   },
   "outputs": [],
   "source": [
    "\n",
    "def convert_time(seconds):\n",
    "\n",
    "    hours = int(seconds // 3600)\n",
    "    remaining_seconds = seconds % 3600\n",
    "    \n",
    "    minutes = int(remaining_seconds // 60)\n",
    "    remaining_seconds %= 60\n",
    "    \n",
    "    seconds = int(remaining_seconds)\n",
    "    miliseconds = int((remaining_seconds - seconds) * 1000)\n",
    "    \n",
    "    return (hours, minutes, seconds, miliseconds)\n"
   ]
  },
  {
   "cell_type": "code",
   "execution_count": 3,
   "metadata": {
    "metadata": {}
   },
   "outputs": [],
   "source": [
    "\n",
    "def result_to_srt(result, output_file, plus_time=0):\n",
    "    #We create our srt object\n",
    "    subs = pysrt.SubRipFile()\n",
    "    #We add plus_time to the normal end time of an instance (if it exceeds to next subtitle we just use next ones limit as limit)\n",
    "    for i in range(len(result['segments']) - 1):\n",
    "        start_time = convert_time(result['segments'][i]['start'])\n",
    "        end_time = convert_time(min(result['segments'][i+1]['start'], \n",
    "                                    (result['segments'][i]['end']) + plus_time))\n",
    "        \n",
    "        sub_item = pysrt.SubRipItem(start=start_time, \n",
    "                                    end=end_time, \n",
    "                                    text=result['segments'][i]['text'])\n",
    "        subs.append(sub_item)\n",
    "    #And we add last subtitle instance\n",
    "    subs.append(pysrt.SubRipItem(start=convert_time(result['segments'][-1]['start']), \n",
    "                                    end=convert_time(result['segments'][-1]['end']), \n",
    "                                    text=result['segments'][-1]['text']))\n",
    "    \n",
    "    subs.save(output_file, encoding='utf-8')\n",
    "    print(f'Subtitle file {output_file} is ready.')   \n"
   ]
  },
  {
   "cell_type": "code",
   "execution_count": 4,
   "metadata": {
    "metadata": {}
   },
   "outputs": [],
   "source": [
    "\n",
    "def subtitles_for_list(model, video_list, sub_dir, sub_extension='.srt', plus_time=0):\n",
    "    file_count = len(video_list)\n",
    "    done = 0\n",
    "    print(f\"Creating subtitles for {file_count} files. This may take a while...\")\n",
    "    for video_path in video_list:\n",
    "        #We get result texts from whisper\n",
    "        result = model.transcribe(video_path)\n",
    "        #We set subtitle name same as video name\n",
    "        sub_file = os.path.splitext(os.path.basename(video_path))[0] + sub_extension\n",
    "                \n",
    "        if sub_extension == '.srt':\n",
    "            result_to_srt(result, sub_dir, plus_time=plus_time)\n",
    "            done += 1\n",
    "            print(f\"{done}/{file_count}\")\n",
    "        else:\n",
    "            #TODO implement other subtitle formats\n",
    "            print(f\"Unable to create {sub_extension} files. \")\n",
    "            break\n",
    "          "
   ]
  },
  {
   "cell_type": "code",
   "execution_count": 6,
   "metadata": {
    "metadata": {}
   },
   "outputs": [],
   "source": [
    "          \n",
    "def get_commands(sys_args):\n",
    "    \n",
    "    if len(sys_args) >= 2:\n",
    "        \n",
    "        if sys_args[1] == \"-h\":\n",
    "            print(\"Usage: create_subtitles.py [path/to/input/file.mp4 OR path/to/input/folder] -o [path/to/output/folder] -f [subtitle format] -p [plus time] -m [model size]\")\n",
    "            #TODO be more verbose here\n",
    "            sys.exit()\n",
    "            \n",
    "        output_dir = None\n",
    "        plus_time = 0\n",
    "        sub_format = '.srt'\n",
    "        model_size = 'small'\n",
    "        input_list = []\n",
    "        \n",
    "        extensions = ['.mp4', '.mkv', '.mp3', '.wav', '.mpeg', '.m4a', '.webm']\n",
    "        sub_extensions = ['.srt']\n",
    "        \n",
    "        i = sys_args[1]\n",
    "        \n",
    "        if os.path.isfile(i):\n",
    "            #we set input folder as output folder by default \n",
    "            output_dir = os.path.dirname(i)\n",
    "            input_list = [i]\n",
    "        \n",
    "        elif os.path.isdir(i):\n",
    "            #we set input folder as output folder by default \n",
    "            output_dir = i\n",
    "            input_list = [os.path.join(i, file) for file in os.listdir(i) if os.path.splitext(file)[1] in extensions]\n",
    "    \n",
    "        else:\n",
    "            print(f\"Couldn't reach {i}\")\n",
    "            sys.exit()\n",
    "            \n",
    "        for n in range(len(sys_args)):\n",
    "            if sys_args[n] == \"-o\":\n",
    "                try:\n",
    "                    requested_path = sys_args[n + 1] \n",
    "                    if os.path.isdir(requested_path):\n",
    "                        output_dir = requested_path\n",
    "                    \n",
    "                    else:\n",
    "                        print(\"Requested output directory is invalid.\")\n",
    "                        sys.exit()\n",
    "                \n",
    "                except IndexError:\n",
    "                    print(\"Output location isn't defined. Creating the files in video folder instead. \")\n",
    "                    pass\n",
    "                \n",
    "            if sys_args[n] == \"-f\":\n",
    "                try:\n",
    "                    requested_format = sys_args[n + 1] \n",
    "                    if requested_format in sub_extensions:\n",
    "                        sub_format = requested_format\n",
    "                    else:\n",
    "                        print(\"Unable to create requested subtitle format. Supported formats: \" + str(sub_extensions))\n",
    "                        sys.exit()\n",
    "                except IndexError:\n",
    "                    pass\n",
    "    \n",
    "            if sys_args[n] == \"-p\":\n",
    "                try:\n",
    "                    plus_time = float(sys_args[n + 1]) \n",
    "                except (ValueError, IndexError):\n",
    "                    print(\"Plus-time didn't specified properly.\")\n",
    "                    sys.exit()\n",
    "            \n",
    "            if sys_args[n] == \"-m\":\n",
    "                model_size_names = ['tiny', 'base', 'small', 'medium', 'large', 'tiny.en',  \n",
    "                                    'base.en', 'small.en', 'medium.en', 'large.en']\n",
    "                try:\n",
    "                    requested_model = sys_args[n + 1] \n",
    "                    if requested_model in model_size_names:\n",
    "                        model_size = requested_model\n",
    "                    else:\n",
    "                        print(\"Requested model is not valid.\")\n",
    "                        print(\"Possible model names: \" + str(model_size_names))\n",
    "                        sys.exit()\n",
    "                        \n",
    "                except IndexError:\n",
    "                    print(\"Model keyword did not used properly. \")\n",
    "                    print(\"Possible model keywords: \" + str(model_size_names))\n",
    "                    sys.exit()\n",
    "        \n",
    "            \n",
    "        return model_size, input_list, output_dir, sub_format, plus_time\n",
    "    \n",
    "    else:\n",
    "        print(\"You must enter an input path.\")\n",
    "        sys.exit()\n"
   ]
  },
  {
   "cell_type": "code",
   "execution_count": 8,
   "metadata": {
    "metadata": {}
   },
   "outputs": [
    {
     "name": "stdout",
     "output_type": "stream",
     "text": [
      "Creating subtitles for 1 files. This may take a while...\n"
     ]
    },
    {
     "ename": "PermissionError",
     "evalue": "[Errno 13] Permission denied: 'C:\\\\Users\\\\vlns\\\\Desktop\\\\sub_ex'",
     "output_type": "error",
     "traceback": [
      "\u001b[1;31m---------------------------------------------------------------------------\u001b[0m",
      "\u001b[1;31mPermissionError\u001b[0m                           Traceback (most recent call last)",
      "Cell \u001b[1;32mIn[8], line 8\u001b[0m\n\u001b[0;32m      5\u001b[0m     subtitles_for_list(model, input_list, output_dir, sub_format, plus_time)\n\u001b[0;32m      7\u001b[0m \u001b[38;5;28;01mif\u001b[39;00m \u001b[38;5;18m__name__\u001b[39m \u001b[38;5;241m==\u001b[39m \u001b[38;5;124m'\u001b[39m\u001b[38;5;124m__main__\u001b[39m\u001b[38;5;124m'\u001b[39m:\n\u001b[1;32m----> 8\u001b[0m     \u001b[43mmain\u001b[49m\u001b[43m(\u001b[49m\u001b[43m)\u001b[49m\n",
      "Cell \u001b[1;32mIn[8], line 5\u001b[0m, in \u001b[0;36mmain\u001b[1;34m()\u001b[0m\n\u001b[0;32m      3\u001b[0m model_size, input_list, output_dir, sub_format, plus_time \u001b[38;5;241m=\u001b[39m get_commands([\u001b[38;5;124m'\u001b[39m\u001b[38;5;124mcreate_subtitles.py\u001b[39m\u001b[38;5;124m'\u001b[39m, \u001b[38;5;124m'\u001b[39m\u001b[38;5;124mC:\u001b[39m\u001b[38;5;130;01m\\\\\u001b[39;00m\u001b[38;5;124mUsers\u001b[39m\u001b[38;5;130;01m\\\\\u001b[39;00m\u001b[38;5;124mvlns\u001b[39m\u001b[38;5;130;01m\\\\\u001b[39;00m\u001b[38;5;124mDesktop\u001b[39m\u001b[38;5;130;01m\\\\\u001b[39;00m\u001b[38;5;124msub_ex\u001b[39m\u001b[38;5;124m'\u001b[39m, \u001b[38;5;124m'\u001b[39m\u001b[38;5;124m-p\u001b[39m\u001b[38;5;124m'\u001b[39m, \u001b[38;5;124m'\u001b[39m\u001b[38;5;124m1\u001b[39m\u001b[38;5;124m'\u001b[39m, \u001b[38;5;124m'\u001b[39m\u001b[38;5;124m-m\u001b[39m\u001b[38;5;124m'\u001b[39m, \u001b[38;5;124m'\u001b[39m\u001b[38;5;124msmall\u001b[39m\u001b[38;5;124m'\u001b[39m])\n\u001b[0;32m      4\u001b[0m model \u001b[38;5;241m=\u001b[39m whisper\u001b[38;5;241m.\u001b[39mload_model(model_size)\n\u001b[1;32m----> 5\u001b[0m \u001b[43msubtitles_for_list\u001b[49m\u001b[43m(\u001b[49m\u001b[43mmodel\u001b[49m\u001b[43m,\u001b[49m\u001b[43m \u001b[49m\u001b[43minput_list\u001b[49m\u001b[43m,\u001b[49m\u001b[43m \u001b[49m\u001b[43moutput_dir\u001b[49m\u001b[43m,\u001b[49m\u001b[43m \u001b[49m\u001b[43msub_format\u001b[49m\u001b[43m,\u001b[49m\u001b[43m \u001b[49m\u001b[43mplus_time\u001b[49m\u001b[43m)\u001b[49m\n",
      "Cell \u001b[1;32mIn[4], line 12\u001b[0m, in \u001b[0;36msubtitles_for_list\u001b[1;34m(model, video_list, sub_dir, sub_extension, plus_time)\u001b[0m\n\u001b[0;32m      9\u001b[0m sub_file \u001b[38;5;241m=\u001b[39m os\u001b[38;5;241m.\u001b[39mpath\u001b[38;5;241m.\u001b[39msplitext(os\u001b[38;5;241m.\u001b[39mpath\u001b[38;5;241m.\u001b[39mbasename(video_path))[\u001b[38;5;241m0\u001b[39m] \u001b[38;5;241m+\u001b[39m sub_extension\n\u001b[0;32m     11\u001b[0m \u001b[38;5;28;01mif\u001b[39;00m sub_extension \u001b[38;5;241m==\u001b[39m \u001b[38;5;124m'\u001b[39m\u001b[38;5;124m.srt\u001b[39m\u001b[38;5;124m'\u001b[39m:\n\u001b[1;32m---> 12\u001b[0m     \u001b[43mresult_to_srt\u001b[49m\u001b[43m(\u001b[49m\u001b[43mresult\u001b[49m\u001b[43m,\u001b[49m\u001b[43m \u001b[49m\u001b[43msub_dir\u001b[49m\u001b[43m,\u001b[49m\u001b[43m \u001b[49m\u001b[43mplus_time\u001b[49m\u001b[38;5;241;43m=\u001b[39;49m\u001b[43mplus_time\u001b[49m\u001b[43m)\u001b[49m\n\u001b[0;32m     13\u001b[0m     done \u001b[38;5;241m+\u001b[39m\u001b[38;5;241m=\u001b[39m \u001b[38;5;241m1\u001b[39m\n\u001b[0;32m     14\u001b[0m     \u001b[38;5;28mprint\u001b[39m(\u001b[38;5;124mf\u001b[39m\u001b[38;5;124m\"\u001b[39m\u001b[38;5;132;01m{\u001b[39;00mdone\u001b[38;5;132;01m}\u001b[39;00m\u001b[38;5;124m/\u001b[39m\u001b[38;5;132;01m{\u001b[39;00mfile_count\u001b[38;5;132;01m}\u001b[39;00m\u001b[38;5;124m\"\u001b[39m)\n",
      "Cell \u001b[1;32mIn[3], line 19\u001b[0m, in \u001b[0;36mresult_to_srt\u001b[1;34m(result, output_file, plus_time)\u001b[0m\n\u001b[0;32m     14\u001b[0m \u001b[38;5;66;03m#And we add last subtitle instance\u001b[39;00m\n\u001b[0;32m     15\u001b[0m subs\u001b[38;5;241m.\u001b[39mappend(pysrt\u001b[38;5;241m.\u001b[39mSubRipItem(start\u001b[38;5;241m=\u001b[39mconvert_time(result[\u001b[38;5;124m'\u001b[39m\u001b[38;5;124msegments\u001b[39m\u001b[38;5;124m'\u001b[39m][\u001b[38;5;241m-\u001b[39m\u001b[38;5;241m1\u001b[39m][\u001b[38;5;124m'\u001b[39m\u001b[38;5;124mstart\u001b[39m\u001b[38;5;124m'\u001b[39m]), \n\u001b[0;32m     16\u001b[0m                                 end\u001b[38;5;241m=\u001b[39mconvert_time(result[\u001b[38;5;124m'\u001b[39m\u001b[38;5;124msegments\u001b[39m\u001b[38;5;124m'\u001b[39m][\u001b[38;5;241m-\u001b[39m\u001b[38;5;241m1\u001b[39m][\u001b[38;5;124m'\u001b[39m\u001b[38;5;124mend\u001b[39m\u001b[38;5;124m'\u001b[39m]), \n\u001b[0;32m     17\u001b[0m                                 text\u001b[38;5;241m=\u001b[39mresult[\u001b[38;5;124m'\u001b[39m\u001b[38;5;124msegments\u001b[39m\u001b[38;5;124m'\u001b[39m][\u001b[38;5;241m-\u001b[39m\u001b[38;5;241m1\u001b[39m][\u001b[38;5;124m'\u001b[39m\u001b[38;5;124mtext\u001b[39m\u001b[38;5;124m'\u001b[39m]))\n\u001b[1;32m---> 19\u001b[0m \u001b[43msubs\u001b[49m\u001b[38;5;241;43m.\u001b[39;49m\u001b[43msave\u001b[49m\u001b[43m(\u001b[49m\u001b[43moutput_file\u001b[49m\u001b[43m,\u001b[49m\u001b[43m \u001b[49m\u001b[43mencoding\u001b[49m\u001b[38;5;241;43m=\u001b[39;49m\u001b[38;5;124;43m'\u001b[39;49m\u001b[38;5;124;43mutf-8\u001b[39;49m\u001b[38;5;124;43m'\u001b[39;49m\u001b[43m)\u001b[49m\n\u001b[0;32m     20\u001b[0m \u001b[38;5;28mprint\u001b[39m(\u001b[38;5;124mf\u001b[39m\u001b[38;5;124m'\u001b[39m\u001b[38;5;124mSubtitle file \u001b[39m\u001b[38;5;132;01m{\u001b[39;00moutput_file\u001b[38;5;132;01m}\u001b[39;00m\u001b[38;5;124m is ready.\u001b[39m\u001b[38;5;124m'\u001b[39m)\n",
      "File \u001b[1;32mc:\\Users\\vlns\\Python\\Python311\\Lib\\site-packages\\pysrt\\srtfile.py:228\u001b[0m, in \u001b[0;36mSubRipFile.save\u001b[1;34m(self, path, encoding, eol)\u001b[0m\n\u001b[0;32m    225\u001b[0m path \u001b[38;5;241m=\u001b[39m path \u001b[38;5;129;01mor\u001b[39;00m \u001b[38;5;28mself\u001b[39m\u001b[38;5;241m.\u001b[39mpath\n\u001b[0;32m    226\u001b[0m encoding \u001b[38;5;241m=\u001b[39m encoding \u001b[38;5;129;01mor\u001b[39;00m \u001b[38;5;28mself\u001b[39m\u001b[38;5;241m.\u001b[39mencoding\n\u001b[1;32m--> 228\u001b[0m save_file \u001b[38;5;241m=\u001b[39m \u001b[43mcodecs\u001b[49m\u001b[38;5;241;43m.\u001b[39;49m\u001b[43mopen\u001b[49m\u001b[43m(\u001b[49m\u001b[43mpath\u001b[49m\u001b[43m,\u001b[49m\u001b[43m \u001b[49m\u001b[38;5;124;43m'\u001b[39;49m\u001b[38;5;124;43mw+\u001b[39;49m\u001b[38;5;124;43m'\u001b[39;49m\u001b[43m,\u001b[49m\u001b[43m \u001b[49m\u001b[43mencoding\u001b[49m\u001b[38;5;241;43m=\u001b[39;49m\u001b[43mencoding\u001b[49m\u001b[43m)\u001b[49m\n\u001b[0;32m    229\u001b[0m \u001b[38;5;28mself\u001b[39m\u001b[38;5;241m.\u001b[39mwrite_into(save_file, eol\u001b[38;5;241m=\u001b[39meol)\n\u001b[0;32m    230\u001b[0m save_file\u001b[38;5;241m.\u001b[39mclose()\n",
      "File \u001b[1;32m<frozen codecs>:918\u001b[0m, in \u001b[0;36mopen\u001b[1;34m(filename, mode, encoding, errors, buffering)\u001b[0m\n",
      "\u001b[1;31mPermissionError\u001b[0m: [Errno 13] Permission denied: 'C:\\\\Users\\\\vlns\\\\Desktop\\\\sub_ex'"
     ]
    }
   ],
   "source": [
    "\n",
    "def main():\n",
    "\n",
    "    model_size, input_list, output_dir, sub_format, plus_time = get_commands(['create_subtitles.py', 'C:\\\\Users\\\\vlns\\\\Desktop\\\\sub_ex', '-p', '1', '-m', 'small'])\n",
    "    model = whisper.load_model(model_size)\n",
    "    subtitles_for_list(model, input_list, output_dir, sub_format, plus_time)\n",
    "    \n",
    "if __name__ == '__main__':\n",
    "    main()"
   ]
  }
 ],
 "metadata": {
  "kernelspec": {
   "display_name": "Python 3",
   "language": "python",
   "name": "python3"
  },
  "language_info": {
   "codemirror_mode": {
    "name": "ipython",
    "version": 3
   },
   "file_extension": ".py",
   "mimetype": "text/x-python",
   "name": "python",
   "nbconvert_exporter": "python",
   "pygments_lexer": "ipython3",
   "version": "3.11.8"
  }
 },
 "nbformat": 4,
 "nbformat_minor": 2
}
