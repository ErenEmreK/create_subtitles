{
 "cells": [
  {
   "cell_type": "code",
   "execution_count": null,
   "metadata": {},
   "outputs": [],
   "source": [
    "\n",
    "import srt\n",
    "from datetime import timedelta"
   ]
  },
  {
   "cell_type": "code",
   "execution_count": null,
   "metadata": {},
   "outputs": [],
   "source": [
    "def result_to_srt_by_srt(result, output_file):\n",
    "    subs = []\n",
    "    index = 1\n",
    "    for segment in result['segments']:\n",
    "        sub_item = srt.Subtitle(index=index, \n",
    "                                start=timedelta(seconds=segment['start']),\n",
    "                                end=timedelta(seconds=segment['end']), \n",
    "                                content=segment['text'])\n",
    "        index += 1\n",
    "        subs.append(sub_item)\n",
    "    subs = srt.compose(subs)\n",
    " \n",
    "    with open(output_file, \"w\") as f:\n",
    "        f.write(subs)\n",
    "        print(f'Subtitle file {output_file} is ready.')   "
   ]
  }
 ],
 "metadata": {
  "language_info": {
   "name": "python"
  }
 },
 "nbformat": 4,
 "nbformat_minor": 2
}
