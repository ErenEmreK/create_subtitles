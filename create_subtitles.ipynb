{
 "cells": [
  {
   "cell_type": "code",
   "execution_count": null,
   "metadata": {
    "metadata": {}
   },
   "outputs": [],
   "source": [
    "import sys\n",
    "import os\n",
    "\n",
    "import whisper\n",
    "import pysrt"
   ]
  },
  {
   "cell_type": "code",
   "execution_count": null,
   "metadata": {
    "metadata": {}
   },
   "outputs": [],
   "source": [
    "\n",
    "def convert_time(seconds):\n",
    "\n",
    "    hours = int(seconds // 3600)\n",
    "    remaining_seconds = seconds % 3600\n",
    "    \n",
    "    minutes = int(remaining_seconds // 60)\n",
    "    remaining_seconds %= 60\n",
    "    \n",
    "    seconds = int(remaining_seconds)\n",
    "    miliseconds = int((remaining_seconds - seconds) * 1000)\n",
    "    \n",
    "    return (hours, minutes, seconds, miliseconds)\n"
   ]
  },
  {
   "cell_type": "code",
   "execution_count": null,
   "metadata": {
    "metadata": {}
   },
   "outputs": [],
   "source": [
    "\n",
    "def result_to_srt(result, output_file, plus_time=0):\n",
    "    #We create our srt object\n",
    "    subs = pysrt.SubRipFile()\n",
    "    #We add plus_time to the normal end time of an instance (if it exceeds to next subtitle we just use next ones limit as limit)\n",
    "    for i in range(len(result['segments']) - 1):\n",
    "        start_time = convert_time(result['segments'][i]['start'])\n",
    "        end_time = convert_time(min(result['segments'][i+1]['start'], \n",
    "                                    (result['segments'][i]['end']) + plus_time))\n",
    "        \n",
    "        sub_item = pysrt.SubRipItem(start=start_time, \n",
    "                                    end=end_time, \n",
    "                                    text=result['segments'][i]['text'])\n",
    "        subs.append(sub_item)\n",
    "    #And we add last subtitle instance\n",
    "    subs.append(pysrt.SubRipItem(start=convert_time(result['segments'][-1]['start']), \n",
    "                                    end=convert_time(result['segments'][-1]['end']), \n",
    "                                    text=result['segments'][-1]['text']))\n",
    "    \n",
    "    subs.save(output_file, encoding='utf-8')\n",
    "    print(f'Subtitle file {output_file} is ready.')   "
   ]
  },
  {
   "cell_type": "code",
   "execution_count": null,
   "metadata": {
    "metadata": {}
   },
   "outputs": [],
   "source": [
    "def subtitles_for_list(model, video_list, sub_dir, sub_extension='.srt', plus_time=0):\n",
    "    file_count = len(video_list)\n",
    "    done = 0\n",
    "    print(f\"Creating subtitles for {file_count} files. This may take a while...\")\n",
    "    for video_path in video_list:\n",
    "        #We get result texts from whisper\n",
    "        result = model.transcribe(video_path)\n",
    "        #We set subtitle name same as video name\n",
    "        sub_file = os.path.splitext(os.path.basename(video_path))[0] + sub_extension\n",
    "        print(sub_file)\n",
    "        if sub_extension == '.srt':\n",
    "            result_to_srt(result, sub_file, plus_time=plus_time)\n",
    "            print(\"4\")\n",
    "            done += 1\n",
    "            print(f\"{done}/{file_count}\")\n",
    "        else:\n",
    "            #TODO implement other subtitle formats\n",
    "            print(f\"Unable to create {sub_extension} files. \")\n",
    "            break\n",
    "          "
   ]
  },
  {
   "cell_type": "code",
   "execution_count": null,
   "metadata": {
    "metadata": {}
   },
   "outputs": [],
   "source": [
    "          \n",
    "def get_commands(sys_args):\n",
    "    \n",
    "    if len(sys_args) >= 2:\n",
    "        \n",
    "        if sys_args[1] == \"-h\":\n",
    "            print(\"Usage: create_subtitles.py [path/to/input/file.mp4 OR path/to/input/folder] -o [path/to/output/folder] -f [subtitle format] -p [plus time] -m [model size]\")\n",
    "            #TODO be more verbose here\n",
    "            sys.exit()\n",
    "            \n",
    "        output_dir = None\n",
    "        plus_time = 0\n",
    "        sub_format = '.srt'\n",
    "        model_size = 'small'\n",
    "        input_list = []\n",
    "        \n",
    "        extensions = ['.mp4', '.mkv', '.mp3', '.wav', '.mpeg', '.m4a', '.webm']\n",
    "        sub_extensions = ['.srt']\n",
    "        \n",
    "        i = sys_args[1]\n",
    "        \n",
    "        if os.path.isfile(i):\n",
    "            #we set input folder as output folder by default \n",
    "            output_dir = os.path.dirname(i)\n",
    "            input_list = [i]\n",
    "        \n",
    "        elif os.path.isdir(i):\n",
    "            #we set input folder as output folder by default \n",
    "            output_dir = i\n",
    "            input_list = [os.path.join(i, file) for file in os.listdir(i) if os.path.splitext(file)[1] in extensions]\n",
    "    \n",
    "        else:\n",
    "            print(f\"Couldn't reach {i}\")\n",
    "            sys.exit()\n",
    "            \n",
    "        for n in range(len(sys_args)):\n",
    "            if sys_args[n] == \"-o\":\n",
    "                try:\n",
    "                    requested_path = sys_args[n + 1] \n",
    "                    if os.path.isdir(requested_path):\n",
    "                        output_dir = requested_path\n",
    "                    \n",
    "                    else:\n",
    "                        print(\"Requested output directory is invalid.\")\n",
    "                        sys.exit()\n",
    "                \n",
    "                except IndexError:\n",
    "                    print(\"Output location isn't defined. Creating the files in video folder instead. \")\n",
    "                    pass\n",
    "                \n",
    "            if sys_args[n] == \"-f\":\n",
    "                try:\n",
    "                    requested_format = sys_args[n + 1] \n",
    "                    if requested_format in sub_extensions:\n",
    "                        sub_format = requested_format\n",
    "                    else:\n",
    "                        print(\"Unable to create requested subtitle format. Supported formats: \" + str(sub_extensions))\n",
    "                        sys.exit()\n",
    "                except IndexError:\n",
    "                    pass\n",
    "    \n",
    "            if sys_args[n] == \"-p\":\n",
    "                try:\n",
    "                    plus_time = float(sys_args[n + 1]) \n",
    "                except (ValueError, IndexError):\n",
    "                    print(\"Plus-time didn't specified properly.\")\n",
    "                    sys.exit()\n",
    "            \n",
    "            if sys_args[n] == \"-m\":\n",
    "                model_size_names = ['tiny', 'base', 'small', 'medium', 'large', 'tiny.en',  \n",
    "                                    'base.en', 'small.en', 'medium.en', 'large.en']\n",
    "                try:\n",
    "                    requested_model = sys_args[n + 1] \n",
    "                    if requested_model in model_size_names:\n",
    "                        model_size = requested_model\n",
    "                    else:\n",
    "                        print(\"Requested model is not valid.\")\n",
    "                        print(\"Possible model names: \" + str(model_size_names))\n",
    "                        sys.exit()\n",
    "                        \n",
    "                except IndexError:\n",
    "                    print(\"Model keyword did not used properly. \")\n",
    "                    print(\"Possible model keywords: \" + str(model_size_names))\n",
    "                    sys.exit()\n",
    "        \n",
    "            \n",
    "        return model_size, input_list, output_dir, sub_format, plus_time\n",
    "    \n",
    "    else:\n",
    "        print(\"You must enter an input path.\")\n",
    "        sys.exit()\n"
   ]
  },
  {
   "cell_type": "code",
   "execution_count": null,
   "metadata": {
    "metadata": {}
   },
   "outputs": [],
   "source": [
    "\n",
    "def main():\n",
    "\n",
    "    model_size, input_list, output_dir, sub_format, plus_time = get_commands(['create_subtitles.py', 'C:\\\\Users\\\\vlns\\\\Desktop\\\\sub_ex', '-p', '1', '-m', 'small'])\n",
    "    model = whisper.load_model(model_size)\n",
    "    subtitles_for_list(model, input_list, output_dir, sub_format, plus_time)\n",
    "    \n",
    "if __name__ == '__main__':\n",
    "    main()"
   ]
  },
  {
   "cell_type": "code",
   "execution_count": null,
   "metadata": {},
   "outputs": [],
   "source": [
    "model = whisper.load_model(\"small\")\n",
    "result = model.transcribe(\"C:\\\\Users\\\\vlns\\\\Desktop\\sub_ex\\\\My Hero Academia S01E09 MULTi 1080p 10bits BluRay x265 AAC -Punisher694.mkv\")"
   ]
  },
  {
   "cell_type": "code",
   "execution_count": null,
   "metadata": {},
   "outputs": [],
   "source": [
    "result_to_srt(result, \"C:\\\\Users\\\\vlns\\\\Desktop\\sub_ex\\\\My Hero Academia S01E09 MULTi 1080p 10bits BluRay x265 AAC -Punisher694.srt\", 1)"
   ]
  },
  {
   "cell_type": "code",
   "execution_count": null,
   "metadata": {},
   "outputs": [],
   "source": [
    "subtitles_for_list(whisper.load_model(\"small\"), [\"C:\\\\Users\\\\vlns\\\\Desktop\\sub_ex\\\\My Hero Academia S01E09 MULTi 1080p 10bits BluRay x265 AAC -Punisher694.mkv\"], \"C:\\\\Users\\\\vlns\\\\Desktop\\sub_ex\", plus_time=1)"
   ]
  }
 ],
 "metadata": {
  "kernelspec": {
   "display_name": "Python 3",
   "language": "python",
   "name": "python3"
  },
  "language_info": {
   "codemirror_mode": {
    "name": "ipython",
    "version": 3
   },
   "file_extension": ".py",
   "mimetype": "text/x-python",
   "name": "python",
   "nbconvert_exporter": "python",
   "pygments_lexer": "ipython3",
   "version": "3.11.8"
  }
 },
 "nbformat": 4,
 "nbformat_minor": 2
}
